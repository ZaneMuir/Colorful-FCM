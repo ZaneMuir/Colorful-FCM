{
 "cells": [
  {
   "cell_type": "code",
   "execution_count": 5,
   "metadata": {
    "scrolled": false
   },
   "outputs": [
    {
     "name": "stdout",
     "output_type": "stream",
     "text": [
      "data restored from: 69e1650b35c4814f2864dc3dc0c1ee.jld\n",
      " "
     ]
    },
    {
     "name": "stderr",
     "output_type": "stream",
     "text": [
      "WARNING: replacing module Device\n",
      "WARNING: replacing module ReadIn\n"
     ]
    },
    {
     "name": "stdout",
     "output_type": "stream",
     "text": [
      " 0.374865 seconds (271.26 k allocations: 14.704 MiB, 2.36% gc time)\n"
     ]
    }
   ],
   "source": [
    "include(\"src/Device.jl\")\n",
    "include(\"src/ReadIn.jl\")\n",
    "\n",
    "excitation_csv = \"data/常见染料_发射曲线.csv\"\n",
    "emission_csv   = \"data/常见染料_激发曲线.csv\"\n",
    "antigens_csv   = \"data/使用抗体.csv\"\n",
    "\n",
    "@time (template, interaction) = ReadIn.get_normalized_data(excitation_csv, emission_csv, antigens_csv, \n",
    "    Device.ThermoFisher);"
   ]
  },
  {
   "cell_type": "markdown",
   "metadata": {},
   "source": []
  }
 ],
 "metadata": {
  "kernelspec": {
   "display_name": "Julia 0.6.0",
   "language": "julia",
   "name": "julia-0.6"
  },
  "language_info": {
   "file_extension": ".jl",
   "mimetype": "application/julia",
   "name": "julia",
   "version": "0.6.0"
  }
 },
 "nbformat": 4,
 "nbformat_minor": 2
}
