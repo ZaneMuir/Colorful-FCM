{
 "cells": [
  {
   "cell_type": "code",
   "execution_count": 1,
   "metadata": {},
   "outputs": [
    {
     "name": "stderr",
     "output_type": "stream",
     "text": [
      "WARNING: Method definition ==(Base.Nullable{S}, Base.Nullable{T}) in module Base at nullable.jl:238 overwritten in module NullableArrays at /Users/zane/.julia/v0.6/NullableArrays/src/operators.jl:99.\n"
     ]
    },
    {
     "data": {
      "text/plain": [
       "\"data/使用抗体.csv\""
      ]
     },
     "execution_count": 1,
     "metadata": {},
     "output_type": "execute_result"
    }
   ],
   "source": [
    "include(\"src/Device.jl\")\n",
    "include(\"src/ReadIn.jl\")\n",
    "\n",
    "excitation_csv = \"data/常见染料_发射曲线.csv\"\n",
    "emission_csv   = \"data/常见染料_激发曲线.csv\"\n",
    "antigens_csv   = \"data/使用抗体.csv\""
   ]
  },
  {
   "cell_type": "code",
   "execution_count": 3,
   "metadata": {},
   "outputs": [
    {
     "name": "stdout",
     "output_type": "stream",
     "text": [
      "data stored in: 69e1650b35c4814f2864dc3dc0c1ee\n",
      "  0.233853 seconds (182.61 k allocations: 7.167 MiB)\n"
     ]
    }
   ],
   "source": [
    "@time (rawdata, template, interaction) = ReadIn.get_normalized_data(excitation_csv, emission_csv, antigens_csv, \n",
    "    Device.ThermoFisher);"
   ]
  },
  {
   "cell_type": "code",
   "execution_count": null,
   "metadata": {
    "scrolled": false
   },
   "outputs": [],
   "source": [
    "?JLD.save"
   ]
  },
  {
   "cell_type": "code",
   "execution_count": null,
   "metadata": {},
   "outputs": [],
   "source": []
  }
 ],
 "metadata": {
  "kernelspec": {
   "display_name": "Julia 0.6.0",
   "language": "julia",
   "name": "julia-0.6"
  },
  "language_info": {
   "file_extension": ".jl",
   "mimetype": "application/julia",
   "name": "julia",
   "version": "0.6.0"
  }
 },
 "nbformat": 4,
 "nbformat_minor": 2
}
