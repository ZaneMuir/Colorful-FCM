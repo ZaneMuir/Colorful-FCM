{
 "cells": [
  {
   "cell_type": "code",
   "execution_count": 143,
   "metadata": {},
   "outputs": [
    {
     "name": "stderr",
     "output_type": "stream",
     "text": [
      "WARNING: replacing module Device\n",
      "WARNING: replacing module ReadIn\n"
     ]
    },
    {
     "data": {
      "text/plain": [
       "ReadIn"
      ]
     },
     "execution_count": 143,
     "metadata": {},
     "output_type": "execute_result"
    }
   ],
   "source": [
    "include(\"src/Device.jl\")\n",
    "include(\"src/ReadIn.jl\")"
   ]
  },
  {
   "cell_type": "code",
   "execution_count": 145,
   "metadata": {},
   "outputs": [
    {
     "name": "stdout",
     "output_type": "stream",
     "text": [
      "data restored from: 69e1650b35c4814f2864fcf28baf30.jld\n",
      "  0.022975 seconds (7.88 k allocations: 515.516 KiB)\n"
     ]
    },
    {
     "data": {
      "text/plain": [
       "41×12 Array{Float64,2}:\n",
       "   0.0  0.0  999.0  0.0  0.0  0.0    0.0    0.0    0.0  0.0  0.0  0.0\n",
       "   0.0  0.0    1.0  0.0  1.0  0.0    1.0    1.0    1.0  0.0  0.0  0.0\n",
       "   0.0  0.0    1.0  0.0  0.0  0.0    0.0    1.0    0.0  0.0  0.0  0.0\n",
       "   0.0  1.0    0.0  1.0  0.0  0.0    0.0    0.0    0.0  0.0  0.0  0.0\n",
       "   1.0  1.0    0.0  0.0  0.0  1.0    1.0    1.0    1.0  1.0  1.0  0.0\n",
       "   1.0  0.0    0.0  0.0  0.0  0.0    1.0    1.0    1.0  0.0  1.0  0.0\n",
       "   1.0  0.0    0.0  0.0  0.0  0.0    1.0    0.0    1.0  0.0  1.0  0.0\n",
       "   1.0  0.0    0.0  0.0  0.0  0.0    1.0    0.0    1.0  0.0  1.0  0.0\n",
       "   1.0  0.0    0.0  0.0  0.0  1.0    1.0    1.0    1.0  0.0  1.0  0.0\n",
       " 999.0  0.0    0.0  0.0  0.0  0.0    0.0    0.0    0.0  0.0  0.0  0.0\n",
       " 999.0  0.0    0.0  0.0  0.0  0.0    0.0    0.0    0.0  0.0  0.0  0.0\n",
       " 999.0  0.0    0.0  0.0  0.0  0.0    0.0    0.0    0.0  0.0  0.0  0.0\n",
       "   1.0  0.0    0.0  0.0  0.0  0.0    1.0    0.0    0.0  0.0  0.0  0.0\n",
       "   ⋮                          ⋮                              ⋮       \n",
       "   0.0  0.0    0.0  0.0  0.0  0.0  999.0    0.0    0.0  0.0  0.0  0.0\n",
       "   0.0  0.0    0.0  0.0  0.0  0.0  999.0    0.0    0.0  0.0  0.0  0.0\n",
       "   0.0  0.0    0.0  0.0  0.0  0.0    0.0  999.0    0.0  0.0  0.0  0.0\n",
       "   0.0  0.0    0.0  0.0  0.0  0.0    0.0  999.0    0.0  0.0  0.0  0.0\n",
       "   0.0  0.0    0.0  0.0  0.0  0.0    0.0  999.0    0.0  0.0  0.0  0.0\n",
       "   0.0  0.0    0.0  0.0  0.0  0.0    0.0  999.0    0.0  0.0  0.0  0.0\n",
       "   0.0  0.0    0.0  0.0  0.0  0.0    0.0  999.0    0.0  0.0  0.0  0.0\n",
       "   0.0  0.0    0.0  0.0  0.0  0.0    0.0  999.0    0.0  0.0  0.0  0.0\n",
       "   0.0  0.0    0.0  0.0  0.0  0.0    0.0  999.0    0.0  0.0  0.0  0.0\n",
       "   0.0  0.0    0.0  0.0  0.0  0.0    0.0    0.0  999.0  0.0  0.0  0.0\n",
       "   0.0  0.0    0.0  0.0  0.0  0.0    0.0    0.0  999.0  0.0  0.0  0.0\n",
       "   0.0  0.0    0.0  0.0  0.0  0.0    0.0    0.0    0.0  0.0  0.0  0.0"
      ]
     },
     "execution_count": 145,
     "metadata": {},
     "output_type": "execute_result"
    }
   ],
   "source": [
    "excitation_csv = \"data/常见染料_发射曲线.csv\"\n",
    "emission_csv   = \"data/常见染料_激发曲线.csv\"\n",
    "antigens_csv   = \"data/使用抗体.csv\"\n",
    "\n",
    "@time (template, interaction) = ReadIn.get_normalized_data(excitation_csv, emission_csv, antigens_csv, \n",
    "    Device.ThermoFisher);\n",
    "template[:,:,1]"
   ]
  },
  {
   "cell_type": "code",
   "execution_count": 96,
   "metadata": {},
   "outputs": [
    {
     "data": {
      "text/plain": [
       "Array{Float64,3}"
      ]
     },
     "execution_count": 96,
     "metadata": {},
     "output_type": "execute_result"
    }
   ],
   "source": [
    "typeof(template)"
   ]
  },
  {
   "cell_type": "code",
   "execution_count": 109,
   "metadata": {},
   "outputs": [
    {
     "data": {
      "text/plain": [
       "Dict{Symbol,Dict{Int64,Dict{Symbol,Array{Float64,1}}}}"
      ]
     },
     "execution_count": 109,
     "metadata": {},
     "output_type": "execute_result"
    }
   ],
   "source": [
    "typeof(interaction)"
   ]
  },
  {
   "cell_type": "code",
   "execution_count": 110,
   "metadata": {},
   "outputs": [
    {
     "data": {
      "text/plain": [
       "12-element Array{Float64,1}:\n",
       " -Inf        \n",
       "   -0.161327 \n",
       "    0.0      \n",
       "   -0.0374479\n",
       "    0.0      \n",
       "    0.0      \n",
       "    0.0      \n",
       "    0.0      \n",
       "   -0.848819 \n",
       "    0.0      \n",
       "    0.0      \n",
       "    0.0      "
      ]
     },
     "execution_count": 110,
     "metadata": {},
     "output_type": "execute_result"
    }
   ],
   "source": [
    "interaction[:red][780][:APC]"
   ]
  },
  {
   "cell_type": "code",
   "execution_count": 102,
   "metadata": {},
   "outputs": [
    {
     "data": {
      "text/plain": [
       "Float64"
      ]
     },
     "execution_count": 102,
     "metadata": {},
     "output_type": "execute_result"
    }
   ],
   "source": [
    "typeof(Inf)"
   ]
  },
  {
   "cell_type": "code",
   "execution_count": 104,
   "metadata": {},
   "outputs": [
    {
     "data": {
      "text/plain": [
       "Dict{Symbol,Dict{Int64,Dict{Symbol,Array{Float64,1}}}} with 0 entries"
      ]
     },
     "execution_count": 104,
     "metadata": {},
     "output_type": "execute_result"
    }
   ],
   "source": [
    "demo = Dict{Symbol, Dict{Int, Dict{Symbol, Array{Float64,1}}}}()"
   ]
  },
  {
   "cell_type": "code",
   "execution_count": 115,
   "metadata": {},
   "outputs": [
    {
     "name": "stderr",
     "output_type": "stream",
     "text": [
      "\u001b[1m\u001b[36mINFO: \u001b[39m\u001b[22m\u001b[36mRecompiling stale cache file /Users/zane/.julia/lib/v0.6/JLD.ji for module JLD.\n",
      "\u001b[39m"
     ]
    }
   ],
   "source": [
    "using JLD"
   ]
  },
  {
   "cell_type": "code",
   "execution_count": 117,
   "metadata": {},
   "outputs": [],
   "source": [
    "save(\"demo.jld\", \"template\",template, \"interaction\",interaction)"
   ]
  },
  {
   "cell_type": "code",
   "execution_count": 118,
   "metadata": {},
   "outputs": [
    {
     "name": "stdout",
     "output_type": "stream",
     "text": [
      "search:\n",
      "\n"
     ]
    },
    {
     "data": {
      "text/markdown": [
       "No documentation found.\n",
       "\n",
       "`template` is of type `Array{Float64,3}`.\n",
       "\n",
       "**Summary:**\n",
       "\n",
       "```\n",
       "mutable struct Array{Float64,3} <: DenseArray{Float64,3}\n",
       "```\n"
      ],
      "text/plain": [
       "No documentation found.\n",
       "\n",
       "`template` is of type `Array{Float64,3}`.\n",
       "\n",
       "**Summary:**\n",
       "\n",
       "```\n",
       "mutable struct Array{Float64,3} <: DenseArray{Float64,3}\n",
       "```\n"
      ]
     },
     "execution_count": 118,
     "metadata": {},
     "output_type": "execute_result"
    }
   ],
   "source": [
    "?template"
   ]
  },
  {
   "cell_type": "code",
   "execution_count": 120,
   "metadata": {},
   "outputs": [],
   "source": [
    "using SHA"
   ]
  },
  {
   "cell_type": "code",
   "execution_count": 131,
   "metadata": {},
   "outputs": [
    {
     "data": {
      "text/plain": [
       "\"f8e8123088aa5f9b184efcf28baf30f5f2df517a19464f6989979c58bc67c504\""
      ]
     },
     "execution_count": 131,
     "metadata": {},
     "output_type": "execute_result"
    }
   ],
   "source": [
    "ex_sha = open(excitation_csv) do f\n",
    "    bytes2hex(sha2_256(f))\n",
    "end\n",
    "\n",
    "em_sha = open(emission_csv) do f\n",
    "    bytes2hex(sha2_256(f))\n",
    "end\n",
    "\n",
    "ag_sha = open(antigens_csv) do f\n",
    "    bytes2hex(sha2_256(f))\n",
    "end"
   ]
  },
  {
   "cell_type": "code",
   "execution_count": 135,
   "metadata": {},
   "outputs": [
    {
     "data": {
      "text/plain": [
       "\"69e1650b35c4814f2864fcf28baf30\""
      ]
     },
     "execution_count": 135,
     "metadata": {},
     "output_type": "execute_result"
    }
   ],
   "source": [
    "shas = ex_sha[1:10] * em_sha[11:20] * ag_sha[21:30]"
   ]
  },
  {
   "cell_type": "code",
   "execution_count": null,
   "metadata": {},
   "outputs": [],
   "source": []
  }
 ],
 "metadata": {
  "kernelspec": {
   "display_name": "Julia 0.6.0",
   "language": "julia",
   "name": "julia-0.6"
  },
  "language_info": {
   "file_extension": ".jl",
   "mimetype": "application/julia",
   "name": "julia",
   "version": "0.6.0"
  }
 },
 "nbformat": 4,
 "nbformat_minor": 2
}
