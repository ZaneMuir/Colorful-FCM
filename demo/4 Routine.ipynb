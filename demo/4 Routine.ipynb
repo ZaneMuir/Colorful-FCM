{
 "cells": [
  {
   "cell_type": "code",
   "execution_count": 24,
   "metadata": {},
   "outputs": [
    {
     "name": "stderr",
     "output_type": "stream",
     "text": [
      "WARNING: replacing module ColorfulFCM.\n"
     ]
    },
    {
     "data": {
      "text/plain": [
       "Main.ColorfulFCM"
      ]
     },
     "execution_count": 24,
     "metadata": {},
     "output_type": "execute_result"
    }
   ],
   "source": [
    "# include(\"../src/Device.jl\")\n",
    "# include(\"../src/ReadIn.jl\")\n",
    "# include(\"../src/Evaluation.jl\")\n",
    "include(\"../src/ColorfulFCM.jl\")"
   ]
  },
  {
   "cell_type": "markdown",
   "metadata": {},
   "source": [
    "# 特别说明\n",
    "- 减少了不必要的模块划分\n",
    "- `get_result`在julia 0.7会直接改变参数，因此重命名为`get_result!`: 即确保每次运行时各个参数都是未经处理的。"
   ]
  },
  {
   "cell_type": "code",
   "execution_count": 28,
   "metadata": {
    "scrolled": false
   },
   "outputs": [
    {
     "name": "stdout",
     "output_type": "stream",
     "text": [
      "data stored in: \n",
      "  0.015434 seconds (74.53 k allocations: 3.704 MiB)\n"
     ]
    },
    {
     "data": {
      "text/plain": [
       "Dict{Symbol,Tuple{Symbol,Float64}} with 6 entries:\n",
       "  :B220   => (:PE_Dazzle, 1881.85)\n",
       "  :CD138  => (:BV421, 2.85395e-5)\n",
       "  :FAS    => (:APC, 4.96682e6)\n",
       "  :GL_7   => (:Alexa647, 485.056)\n",
       "  :IgD    => (:PE, 454.842)\n",
       "  :CD45_1 => (:FITC, 18.2983)"
      ]
     },
     "execution_count": 28,
     "metadata": {},
     "output_type": "execute_result"
    }
   ],
   "source": [
    "excitation_csv = \"../data/常见染料_发射曲线.csv\"\n",
    "emission_csv   = \"../data/常见染料_激发曲线.csv\"\n",
    "antigens_csv   = \"../data/使用抗体.csv\"\n",
    "\n",
    "@time (meta, template, interaction) = ColorfulFCM.get_normalized_data(excitation_csv, emission_csv, antigens_csv, \n",
    "    ColorfulFCM.ThermoFisherDevice);\n",
    "\n",
    "readin_marker_density = [\n",
    "    (:B220, 10000), \n",
    "    (:IgD,  10000), \n",
    "    (:CD138,4000),\n",
    "    (:GL_7, 10000),\n",
    "    (:FAS,  10000),\n",
    "    (:CD45_1, 10000),\n",
    "]\n",
    "\n",
    "ColorfulFCM.get_result!(meta, template, interaction, ColorfulFCM.ThermoFisherDevice, readin_marker_density)"
   ]
  },
  {
   "cell_type": "code",
   "execution_count": null,
   "metadata": {},
   "outputs": [],
   "source": []
  }
 ],
 "metadata": {
  "kernelspec": {
   "display_name": "Julia 1.0.0",
   "language": "julia",
   "name": "julia-1.0"
  },
  "language_info": {
   "file_extension": ".jl",
   "mimetype": "application/julia",
   "name": "julia",
   "version": "1.0.0"
  }
 },
 "nbformat": 4,
 "nbformat_minor": 2
}
