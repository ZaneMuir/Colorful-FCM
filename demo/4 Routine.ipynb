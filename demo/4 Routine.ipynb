{
 "cells": [
  {
   "cell_type": "code",
   "execution_count": 21,
   "metadata": {},
   "outputs": [
    {
     "name": "stderr",
     "output_type": "stream",
     "text": [
      "WARNING: replacing module Device\n",
      "WARNING: replacing module ReadIn\n"
     ]
    },
    {
     "data": {
      "text/plain": [
       "ReadIn"
      ]
     },
     "execution_count": 21,
     "metadata": {},
     "output_type": "execute_result"
    }
   ],
   "source": [
    "include(\"src/Device.jl\")\n",
    "include(\"src/ReadIn.jl\")"
   ]
  },
  {
   "cell_type": "code",
   "execution_count": 22,
   "metadata": {
    "scrolled": false
   },
   "outputs": [
    {
     "name": "stdout",
     "output_type": "stream",
     "text": [
      "data stored in: 69e1650b35c4814f2864dc3dc0c1ee.jld\n",
      "  0.829808 seconds (506.13 k allocations: 25.205 MiB, 1.07% gc time)\n"
     ]
    },
    {
     "data": {
      "text/plain": [
       "41×12 Array{Float64,2}:\n",
       "   0.0  0.0  999.0  0.0  0.0  0.0    0.0    0.0    0.0  0.0  0.0    0.0\n",
       "   0.0  0.0    1.0  0.0  1.0  0.0    1.0    1.0    1.0  0.0  0.0    0.0\n",
       "   0.0  0.0    1.0  0.0  0.0  0.0    0.0    1.0    0.0  0.0  0.0    0.0\n",
       "   0.0  1.0    0.0  1.0  0.0  0.0    0.0    0.0    0.0  0.0  0.0    0.0\n",
       "   1.0  1.0    0.0  0.0  0.0  1.0    1.0    1.0    1.0  1.0  1.0    1.0\n",
       "   1.0  0.0    0.0  0.0  0.0  0.0    1.0    1.0    1.0  0.0  1.0    0.0\n",
       "   1.0  0.0    0.0  0.0  0.0  0.0    1.0    0.0    1.0  0.0  1.0    1.0\n",
       "   1.0  0.0    0.0  0.0  0.0  0.0    1.0    0.0    1.0  0.0  1.0    1.0\n",
       "   1.0  0.0    0.0  0.0  0.0  1.0    1.0    1.0    1.0  0.0  1.0    1.0\n",
       " 999.0  0.0    0.0  0.0  0.0  0.0    0.0    0.0    0.0  0.0  0.0    0.0\n",
       " 999.0  0.0    0.0  0.0  0.0  0.0    0.0    0.0    0.0  0.0  0.0    0.0\n",
       " 999.0  0.0    0.0  0.0  0.0  0.0    0.0    0.0    0.0  0.0  0.0    0.0\n",
       "   1.0  0.0    0.0  0.0  0.0  0.0    1.0    0.0    0.0  0.0  0.0    0.0\n",
       "   ⋮                          ⋮                              ⋮         \n",
       "   0.0  0.0    0.0  0.0  0.0  0.0  999.0    0.0    0.0  0.0  0.0    0.0\n",
       "   0.0  0.0    0.0  0.0  0.0  0.0  999.0    0.0    0.0  0.0  0.0    0.0\n",
       "   0.0  0.0    0.0  0.0  0.0  0.0    0.0  999.0    0.0  0.0  0.0    0.0\n",
       "   0.0  0.0    0.0  0.0  0.0  0.0    0.0  999.0    0.0  0.0  0.0    0.0\n",
       "   0.0  0.0    0.0  0.0  0.0  0.0    0.0  999.0    0.0  0.0  0.0    0.0\n",
       "   0.0  0.0    0.0  0.0  0.0  0.0    0.0  999.0    0.0  0.0  0.0    0.0\n",
       "   0.0  0.0    0.0  0.0  0.0  0.0    0.0  999.0    0.0  0.0  0.0    0.0\n",
       "   0.0  0.0    0.0  0.0  0.0  0.0    0.0    1.0    0.0  0.0  0.0    1.0\n",
       "   0.0  0.0    0.0  0.0  0.0  0.0    0.0  999.0    0.0  0.0  0.0    0.0\n",
       "   0.0  0.0    0.0  0.0  0.0  0.0    0.0    0.0  999.0  0.0  0.0    0.0\n",
       "   0.0  0.0    0.0  0.0  0.0  0.0    0.0    0.0  999.0  0.0  0.0    0.0\n",
       "   0.0  0.0    0.0  0.0  0.0  0.0    0.0    0.0    0.0  0.0  0.0  999.0"
      ]
     },
     "execution_count": 22,
     "metadata": {},
     "output_type": "execute_result"
    }
   ],
   "source": [
    "excitation_csv = \"data/常见染料_发射曲线.csv\"\n",
    "emission_csv   = \"data/常见染料_激发曲线.csv\"\n",
    "antigens_csv   = \"data/使用抗体.csv\"\n",
    "\n",
    "@time (raw, template, interaction) = ReadIn.get_normalized_data(excitation_csv, emission_csv, antigens_csv, \n",
    "    Device.ThermoFisher);\n",
    "template[:,:,1]"
   ]
  },
  {
   "cell_type": "code",
   "execution_count": 8,
   "metadata": {
    "collapsed": true
   },
   "outputs": [
    {
     "data": {
      "text/plain": [
       "22-element Array{Float64,1}:\n",
       " 999.0\n",
       " 999.0\n",
       " 999.0\n",
       " 999.0\n",
       " 999.0\n",
       " 999.0\n",
       " 999.0\n",
       " 999.0\n",
       " 999.0\n",
       " 999.0\n",
       " 999.0\n",
       " 999.0\n",
       " 999.0\n",
       " 999.0\n",
       " 999.0\n",
       " 999.0\n",
       " 999.0\n",
       " 999.0\n",
       " 999.0\n",
       " 999.0\n",
       " 999.0\n",
       " 999.0"
      ]
     },
     "execution_count": 8,
     "metadata": {},
     "output_type": "execute_result"
    }
   ],
   "source": [
    "[item for item in template[:,:,1] if item == 999]"
   ]
  },
  {
   "cell_type": "code",
   "execution_count": 9,
   "metadata": {
    "collapsed": true
   },
   "outputs": [
    {
     "data": {
      "text/plain": [
       "90-element Array{Float64,1}:\n",
       "   1.0\n",
       "   1.0\n",
       "   1.0\n",
       "   1.0\n",
       "   1.0\n",
       " 999.0\n",
       " 999.0\n",
       " 999.0\n",
       "   1.0\n",
       "   1.0\n",
       "   1.0\n",
       "   1.0\n",
       "   1.0\n",
       "   ⋮  \n",
       "   1.0\n",
       "   1.0\n",
       "   1.0\n",
       "   1.0\n",
       "   1.0\n",
       "   1.0\n",
       "   1.0\n",
       "   1.0\n",
       "   1.0\n",
       "   1.0\n",
       "   1.0\n",
       " 999.0"
      ]
     },
     "execution_count": 9,
     "metadata": {},
     "output_type": "execute_result"
    }
   ],
   "source": [
    "[item for item in template[:,:,1] if item != 0]"
   ]
  },
  {
   "cell_type": "code",
   "execution_count": 13,
   "metadata": {},
   "outputs": [
    {
     "data": {
      "text/plain": [
       "12-element Array{Float64,1}:\n",
       "    0.0374479\n",
       "   -0.124632 \n",
       "    0.0374479\n",
       " -Inf        \n",
       "    0.0374479\n",
       "    0.0374479\n",
       "    0.0374479\n",
       "    0.0374479\n",
       "   -0.838008 \n",
       "    0.0374479\n",
       "    0.0374479\n",
       "    0.0374479"
      ]
     },
     "execution_count": 13,
     "metadata": {},
     "output_type": "execute_result"
    }
   ],
   "source": [
    "interaction[:red][780][:Alexa700]"
   ]
  },
  {
   "cell_type": "code",
   "execution_count": 23,
   "metadata": {},
   "outputs": [
    {
     "data": {
      "text/plain": [
       "12-element Array{ReadIn.Dye,1}:\n",
       " ReadIn.Dye(:APC, 5)        \n",
       " ReadIn.Dye(:APC_Cy7, 2)    \n",
       " ReadIn.Dye(:Alexa647, 4)   \n",
       " ReadIn.Dye(:Alexa700, 1)   \n",
       " ReadIn.Dye(:BV510, 3)      \n",
       " ReadIn.Dye(:BV605, 4)      \n",
       " ReadIn.Dye(:FITC, 2)       \n",
       " ReadIn.Dye(:PE, 5)         \n",
       " ReadIn.Dye(:PE_Cy7, 4)     \n",
       " ReadIn.Dye(:PE_Dazzle, 5)  \n",
       " ReadIn.Dye(:PacificBlue, 2)\n",
       " ReadIn.Dye(:Percp_Cy5_5, 2)"
      ]
     },
     "execution_count": 23,
     "metadata": {},
     "output_type": "execute_result"
    }
   ],
   "source": [
    "raw.dyes"
   ]
  },
  {
   "cell_type": "code",
   "execution_count": null,
   "metadata": {},
   "outputs": [],
   "source": []
  }
 ],
 "metadata": {
  "kernelspec": {
   "display_name": "Julia 0.6.0",
   "language": "julia",
   "name": "julia-0.6"
  },
  "language_info": {
   "file_extension": ".jl",
   "mimetype": "application/julia",
   "name": "julia",
   "version": "0.6.0"
  }
 },
 "nbformat": 4,
 "nbformat_minor": 2
}
