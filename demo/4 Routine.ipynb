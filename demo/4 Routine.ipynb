{
 "cells": [
  {
   "cell_type": "code",
   "execution_count": 1,
   "metadata": {},
   "outputs": [
    {
     "data": {
      "text/plain": [
       "Main.ColorfulFCM"
      ]
     },
     "execution_count": 1,
     "metadata": {},
     "output_type": "execute_result"
    }
   ],
   "source": [
    "# include(\"../src/Device.jl\")\n",
    "# include(\"../src/ReadIn.jl\")\n",
    "# include(\"../src/Evaluation.jl\")\n",
    "include(\"../src/ColorfulFCM.jl\")"
   ]
  },
  {
   "cell_type": "markdown",
   "metadata": {},
   "source": [
    "# 特别说明\n",
    "- 减少了不必要的模块划分\n",
    "- `get_result`在julia 0.7会直接改变参数，因此重命名为`get_result!`: 即确保每次运行时各个参数都是未经处理的。"
   ]
  },
  {
   "cell_type": "code",
   "execution_count": 4,
   "metadata": {
    "scrolled": false
   },
   "outputs": [
    {
     "ename": "ArgumentError",
     "evalue": "ArgumentError: `nothing` should not be printed; use `show`, `repr`, or custom output instead.",
     "output_type": "error",
     "traceback": [
      "ArgumentError: `nothing` should not be printed; use `show`, `repr`, or custom output instead.",
      "",
      "Stacktrace:",
      " [1] print(::Base.GenericIOBuffer{Array{UInt8,1}}, ::Nothing) at .\\show.jl:566",
      " [2] #print_to_string#326(::Nothing, ::Function, ::String, ::Vararg{Any,N} where N) at .\\strings\\io.jl:124",
      " [3] print_to_string at .\\strings\\io.jl:112 [inlined]",
      " [4] string at .\\strings\\io.jl:143 [inlined]",
      " [5] to_index(::Nothing) at .\\indices.jl:240",
      " [6] to_index(::Array{Float64,3}, ::Nothing) at .\\indices.jl:222",
      " [7] to_indices at .\\indices.jl:268 [inlined] (repeats 2 times)",
      " [8] to_indices at .\\indices.jl:264 [inlined]",
      " [9] setindex!(::Array{Float64,3}, ::Int64, ::Int64, ::Nothing, ::Int64) at .\\abstractarray.jl:998",
      " [10] get_template(::DataFrames.DataFrame, ::Array{Symbol,1}, ::Array{Main.ColorfulFCM.Dye,1}, ::Int64) at C:\\Users\\Bruce\\Documents\\GitHub\\Colorful-FCM\\src\\ReadIn.jl:149",
      " [11] #get_normalized_data#31(::Nothing, ::String, ::Function, ::String, ::String, ::String, ::Main.ColorfulFCM.FCMDevice) at C:\\Users\\Bruce\\Documents\\GitHub\\Colorful-FCM\\src\\ReadIn.jl:215",
      " [12] get_normalized_data(::String, ::String, ::String, ::Main.ColorfulFCM.FCMDevice) at C:\\Users\\Bruce\\Documents\\GitHub\\Colorful-FCM\\src\\ReadIn.jl:205",
      " [13] top-level scope at util.jl:156",
      " [14] top-level scope at In[4]:4"
     ]
    }
   ],
   "source": [
    "excitation_csv = \"../data/常见染料_发射曲线.csv\"\n",
    "emission_csv   = \"../data/常见染料_激发曲线.csv\"\n",
    "antigens_csv   = \"../data/使用抗体.csv\"\n",
    "\n",
    "@time (meta, template, interaction) = ColorfulFCM.get_normalized_data(excitation_csv, emission_csv, antigens_csv, \n",
    "    ColorfulFCM.ThermoFisherDevice);\n",
    "\n",
    "readin_marker_density = [\n",
    "    (:B220, 10000), \n",
    "    (:IgD,  20), \n",
    "    (:Bcl_6,4000),\n",
    "    (:GL_7, 10000),\n",
    "    (:FAS,  3000),\n",
    "]\n",
    "\n",
    "ColorfulFCM.get_result!(meta, template, interaction, ColorfulFCM.ThermoFisherDevice, readin_marker_density)"
   ]
  },
  {
   "cell_type": "code",
   "execution_count": null,
   "metadata": {},
   "outputs": [],
   "source": []
  }
 ],
 "metadata": {
  "kernelspec": {
   "display_name": "Julia 1.0.0",
   "language": "julia",
   "name": "julia-1.0"
  },
  "language_info": {
   "file_extension": ".jl",
   "mimetype": "application/julia",
   "name": "julia",
   "version": "1.0.0"
  }
 },
 "nbformat": 4,
 "nbformat_minor": 2
}
