{
 "cells": [
  {
   "cell_type": "code",
   "execution_count": 11,
   "metadata": {},
   "outputs": [
    {
     "name": "stderr",
     "output_type": "stream",
     "text": [
      "WARNING: replacing module ColorfulFCM.\n"
     ]
    },
    {
     "data": {
      "text/plain": [
       "Main.ColorfulFCM"
      ]
     },
     "execution_count": 11,
     "metadata": {},
     "output_type": "execute_result"
    }
   ],
   "source": [
    "# include(\"../src/Device.jl\")\n",
    "# include(\"../src/ReadIn.jl\")\n",
    "# include(\"../src/Evaluation.jl\")\n",
    "include(\"../src/ColorfulFCM.jl\")"
   ]
  },
  {
   "cell_type": "markdown",
   "metadata": {},
   "source": [
    "# 特别说明\n",
    "- 减少了不必要的模块划分\n",
    "- `get_result`在julia 0.7会直接改变参数，因此重命名为`get_result!`: 即确保每次运行时各个参数都是未经处理的。"
   ]
  },
  {
   "cell_type": "code",
   "execution_count": 13,
   "metadata": {
    "scrolled": false
   },
   "outputs": [
    {
     "name": "stdout",
     "output_type": "stream",
     "text": [
      "data stored in: \n",
      "  0.014050 seconds (37.54 k allocations: 1.851 MiB)\n"
     ]
    },
    {
     "data": {
      "text/plain": [
       "Dict{Symbol,Tuple{Symbol,Float64}} with 5 entries:\n",
       "  :B220  => (:PE_Dazzle, 1881.85)\n",
       "  :FAS   => (:APC, 4.31756e6)\n",
       "  :Bcl_6 => (:Alexa647, 4.36364e5)\n",
       "  :GL_7  => (:PE, 454.842)\n",
       "  :IgD   => (:FITC, 8.70583)"
      ]
     },
     "execution_count": 13,
     "metadata": {},
     "output_type": "execute_result"
    }
   ],
   "source": [
    "excitation_csv = \"../data/常见染料_发射曲线.csv\"\n",
    "emission_csv   = \"../data/常见染料_激发曲线.csv\"\n",
    "antigens_csv   = \"../data/使用抗体.csv\"\n",
    "\n",
    "@time (meta, template, interaction) = ColorfulFCM.get_normalized_data(excitation_csv, emission_csv, antigens_csv, \n",
    "    ColorfulFCM.ThermoFisherDevice);\n",
    "\n",
    "readin_marker_density = [\n",
    "    (:B220, 10000), \n",
    "    (:IgD,  20,   :biotin), \n",
    "    (:Bcl_6,4000),\n",
    "    (:GL_7, 10000),\n",
    "    (:FAS,  3000),\n",
    "]\n",
    "\n",
    "ColorfulFCM.get_result!(meta, template, interaction, ColorfulFCM.ThermoFisherDevice, readin_marker_density)"
   ]
  }
 ],
 "metadata": {
  "kernelspec": {
   "display_name": "Julia 0.7.0",
   "language": "julia",
   "name": "julia-0.7"
  },
  "language_info": {
   "file_extension": ".jl",
   "mimetype": "application/julia",
   "name": "julia",
   "version": "0.7.0"
  }
 },
 "nbformat": 4,
 "nbformat_minor": 2
}
