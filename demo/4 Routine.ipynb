{
 "cells": [
  {
   "cell_type": "code",
   "execution_count": 2,
   "metadata": {},
   "outputs": [
    {
     "name": "stderr",
     "output_type": "stream",
     "text": [
      "WARNING: replacing module Device\n",
      "WARNING: replacing module ReadIn\n",
      "WARNING: replacing module Evaluation\n"
     ]
    },
    {
     "data": {
      "text/plain": [
       "Evaluation"
      ]
     },
     "execution_count": 2,
     "metadata": {},
     "output_type": "execute_result"
    }
   ],
   "source": [
    "include(\"src/Device.jl\")\n",
    "include(\"src/ReadIn.jl\")\n",
    "include(\"src/Evaluation.jl\")"
   ]
  },
  {
   "cell_type": "code",
   "execution_count": 3,
   "metadata": {
    "scrolled": false
   },
   "outputs": [
    {
     "name": "stdout",
     "output_type": "stream",
     "text": [
      "data restored from: 69e1650b35c4814f2864dc3dc0c1ee\n",
      "  7.438306 seconds (6.77 M allocations: 356.047 MiB, 2.49% gc time)\n"
     ]
    }
   ],
   "source": [
    "excitation_csv = \"data/常见染料_发射曲线.csv\"\n",
    "emission_csv   = \"data/常见染料_激发曲线.csv\"\n",
    "antigens_csv   = \"data/使用抗体.csv\"\n",
    "\n",
    "@time (meta, template, interaction) = ReadIn.get_normalized_data(excitation_csv, emission_csv, antigens_csv, \n",
    "    Device.ThermoFisher);"
   ]
  },
  {
   "cell_type": "code",
   "execution_count": 4,
   "metadata": {},
   "outputs": [
    {
     "data": {
      "text/plain": [
       "Dict{Symbol,Tuple{Symbol,Float64}} with 3 entries:\n",
       "  :PDL_1 => (:PE_Cy7, 32635.8)\n",
       "  :Bcl_6 => (:Alexa647, 7.83284e5)\n",
       "  :IgD   => (:PE, 83.8442)"
      ]
     },
     "execution_count": 4,
     "metadata": {},
     "output_type": "execute_result"
    }
   ],
   "source": [
    "readin_marker_density = [\n",
    "    (:PDL_1, 100), \n",
    "    (:IgD,   20,  :biotin), \n",
    "    (:Bcl_6, 4000)\n",
    "]\n",
    "Evaluation.get_result(meta, template, interaction, Device.ThermoFisher, readin_marker_density)"
   ]
  }
 ],
 "metadata": {
  "kernelspec": {
   "display_name": "Julia 0.6.0",
   "language": "julia",
   "name": "julia-0.6"
  },
  "language_info": {
   "file_extension": ".jl",
   "mimetype": "application/julia",
   "name": "julia",
   "version": "0.6.0"
  }
 },
 "nbformat": 4,
 "nbformat_minor": 2
}
