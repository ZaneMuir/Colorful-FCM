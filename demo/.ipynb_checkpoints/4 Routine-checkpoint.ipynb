{
 "cells": [
  {
   "cell_type": "code",
   "execution_count": 31,
   "metadata": {},
   "outputs": [
    {
     "name": "stderr",
     "output_type": "stream",
     "text": [
      "WARNING: replacing module Device\n",
      "WARNING: replacing module ReadIn\n"
     ]
    },
    {
     "data": {
      "text/plain": [
       "Evaluation"
      ]
     },
     "execution_count": 31,
     "metadata": {},
     "output_type": "execute_result"
    },
    {
     "name": "stderr",
     "output_type": "stream",
     "text": [
      "WARNING: replacing module Evaluation\n"
     ]
    }
   ],
   "source": [
    "include(\"../src/Device.jl\")\n",
    "include(\"../src/ReadIn.jl\")\n",
    "include(\"../src/Evaluation.jl\")"
   ]
  },
  {
   "cell_type": "code",
   "execution_count": 38,
   "metadata": {
    "scrolled": false
   },
   "outputs": [
    {
     "name": "stdout",
     "output_type": "stream",
     "text": [
      "data restored from: 8f3d63b7774bfb76dc6465c602391e\n",
      "  0.148841 seconds (20.39 k allocations: 1.137 MiB)\n"
     ]
    }
   ],
   "source": [
    "excitation_csv = \"../data/常见染料_发射曲线.csv\"\n",
    "emission_csv   = \"../data/常见染料_激发曲线.csv\"\n",
    "antigens_csv   = \"../data/使用抗体.csv\"\n",
    "\n",
    "@time (meta, template, interaction) = ReadIn.get_normalized_data(excitation_csv, emission_csv, antigens_csv, \n",
    "    Device.ThermoFisher);"
   ]
  },
  {
   "cell_type": "code",
   "execution_count": 39,
   "metadata": {},
   "outputs": [
    {
     "data": {
      "text/plain": [
       "Dict{Symbol,Tuple{Symbol,Float64}} with 5 entries:\n",
       "  :B220  => (:PE_Dazzle, 1881.85)\n",
       "  :FAS   => (:APC, 4.31756e6)\n",
       "  :Bcl_6 => (:Alexa647, 4.36364e5)\n",
       "  :GL_7  => (:PE, 454.842)\n",
       "  :IgD   => (:FITC, 8.70583)"
      ]
     },
     "execution_count": 39,
     "metadata": {},
     "output_type": "execute_result"
    }
   ],
   "source": [
    "readin_marker_density = [\n",
    "    (:B220,10000), \n",
    "    (:IgD,20,:biotin), \n",
    "    (:Bcl_6,4000),\n",
    "    (:GL_7,10000),\n",
    "    (:FAS,3000),\n",
    "]\n",
    "Evaluation.get_result(meta, template, interaction, Device.ThermoFisher, readin_marker_density)"
   ]
  },
  {
   "cell_type": "code",
   "execution_count": null,
   "metadata": {},
   "outputs": [],
   "source": []
  },
  {
   "cell_type": "code",
   "execution_count": null,
   "metadata": {},
   "outputs": [],
   "source": []
  }
 ],
 "metadata": {
  "kernelspec": {
   "display_name": "Julia 0.6.2",
   "language": "julia",
   "name": "julia-0.6"
  },
  "language_info": {
   "file_extension": ".jl",
   "mimetype": "application/julia",
   "name": "julia",
   "version": "0.6.2"
  }
 },
 "nbformat": 4,
 "nbformat_minor": 2
}
