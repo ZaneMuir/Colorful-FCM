{
 "cells": [
  {
   "cell_type": "code",
   "execution_count": 12,
   "metadata": {},
   "outputs": [
    {
     "name": "stderr",
     "output_type": "stream",
     "text": [
      "WARNING: replacing module ColorfulFCM.\n"
     ]
    },
    {
     "data": {
      "text/plain": [
       "Main.ColorfulFCM"
      ]
     },
     "execution_count": 12,
     "metadata": {},
     "output_type": "execute_result"
    }
   ],
   "source": [
    "include(\"../src/ColorfulFCM.jl\")"
   ]
  },
  {
   "cell_type": "markdown",
   "metadata": {},
   "source": [
    "$$ \\frac{\\alpha_{ex}}{100} \\cdot \\langle \\alpha_{em} \\rangle \\cdot \\alpha_L$$"
   ]
  },
  {
   "cell_type": "code",
   "execution_count": 13,
   "metadata": {},
   "outputs": [
    {
     "name": "stdout",
     "output_type": "stream",
     "text": [
      "  0.112724 seconds (188.35 k allocations: 17.658 MiB)\n"
     ]
    }
   ],
   "source": [
    "Device = ColorfulFCM.ThermoFisherDevice\n",
    "\n",
    "marker_file = \"../data/使用抗体.csv\"\n",
    "emission_file = \"../data/常见染料_发射曲线.csv\"\n",
    "excitation_file = \"../data/常见染料_激发曲线.csv\"\n",
    "\n",
    "readin_marker_density = [\n",
    "    (:B220, 10000), \n",
    "    (:IgD,  20), \n",
    "    (:Bcl_6,4000),\n",
    "    (:GL_7, 10000),\n",
    "    (:FAS,  3000),\n",
    "]\n",
    "\n",
    "interaction = ColorfulFCM.get_interaction_sheet(readin_marker_density, marker_file, emission_file, excitation_file, Device)\n",
    "@time solution = ColorfulFCM.solve(interaction, readin_marker_density);"
   ]
  },
  {
   "cell_type": "code",
   "execution_count": 14,
   "metadata": {},
   "outputs": [
    {
     "data": {
      "text/html": [
       "<table class=\"data-frame\"><thead><tr><th></th><th>laser</th><th>lens_mu</th><th>lens_sig</th><th>marker</th><th>dye</th><th>score</th></tr><tr><th></th><th>Symbol</th><th>Int64</th><th>Int64</th><th>Symbol</th><th>Symbol</th><th>Float64</th></tr></thead><tbody><tr><th>1</th><td>yellow</td><td>586</td><td>15</td><td>GL_7</td><td>PE</td><td>23585.0</td></tr><tr><th>2</th><td>blue</td><td>530</td><td>30</td><td>IgD</td><td>FITC</td><td>6577.36</td></tr><tr><th>3</th><td>yellow</td><td>610</td><td>20</td><td>B220</td><td>PE_Dazzle</td><td>29518.4</td></tr><tr><th>4</th><td>red</td><td>660</td><td>20</td><td>FAS</td><td>APC</td><td>18428.4</td></tr><tr><th>5</th><td>red</td><td>730</td><td>45</td><td>Bcl_6</td><td>Alexa647</td><td>6675.3</td></tr></tbody></table>"
      ],
      "text/plain": [
       "5×6 DataFrames.DataFrame\n",
       "│ Row │ laser  │ lens_mu │ lens_sig │ marker │ dye       │ score   │\n",
       "│     │ \u001b[90mSymbol\u001b[39m │ \u001b[90mInt64\u001b[39m   │ \u001b[90mInt64\u001b[39m    │ \u001b[90mSymbol\u001b[39m │ \u001b[90mSymbol\u001b[39m    │ \u001b[90mFloat64\u001b[39m │\n",
       "├─────┼────────┼─────────┼──────────┼────────┼───────────┼─────────┤\n",
       "│ 1   │ yellow │ 586     │ 15       │ GL_7   │ PE        │ 23585.0 │\n",
       "│ 2   │ blue   │ 530     │ 30       │ IgD    │ FITC      │ 6577.36 │\n",
       "│ 3   │ yellow │ 610     │ 20       │ B220   │ PE_Dazzle │ 29518.4 │\n",
       "│ 4   │ red    │ 660     │ 20       │ FAS    │ APC       │ 18428.4 │\n",
       "│ 5   │ red    │ 730     │ 45       │ Bcl_6  │ Alexa647  │ 6675.3  │"
      ]
     },
     "execution_count": 14,
     "metadata": {},
     "output_type": "execute_result"
    }
   ],
   "source": [
    "(value, optimal_idx) = [sum(item.score) for item in solution] |> findmax\n",
    "solution[optimal_idx]"
   ]
  },
  {
   "cell_type": "code",
   "execution_count": null,
   "metadata": {},
   "outputs": [],
   "source": []
  }
 ],
 "metadata": {
  "kernelspec": {
   "display_name": "Julia 0.7.0",
   "language": "julia",
   "name": "julia-0.7"
  },
  "language_info": {
   "file_extension": ".jl",
   "mimetype": "application/julia",
   "name": "julia",
   "version": "0.7.0"
  }
 },
 "nbformat": 4,
 "nbformat_minor": 2
}
