{
 "cells": [
  {
   "cell_type": "code",
   "execution_count": 13,
   "metadata": {},
   "outputs": [
    {
     "name": "stderr",
     "output_type": "stream",
     "text": [
      "WARNING: replacing module ColorfulFCM.\n"
     ]
    },
    {
     "data": {
      "text/plain": [
       "Main.ColorfulFCM"
      ]
     },
     "execution_count": 13,
     "metadata": {},
     "output_type": "execute_result"
    }
   ],
   "source": [
    "include(\"../src/ColorfulFCM.jl\")"
   ]
  },
  {
   "cell_type": "markdown",
   "metadata": {},
   "source": [
    "$$ \\frac{\\alpha_{ex}}{100} \\cdot \\langle \\alpha_{em} \\rangle \\cdot \\alpha_L$$"
   ]
  },
  {
   "cell_type": "code",
   "execution_count": 14,
   "metadata": {},
   "outputs": [
    {
     "name": "stdout",
     "output_type": "stream",
     "text": [
      " 12.217468 seconds (44.60 M allocations: 6.052 GiB, 11.48% gc time)\n"
     ]
    }
   ],
   "source": [
    "Device = ColorfulFCM.ThermoFisherDevice\n",
    "\n",
    "marker_file = \"../data/使用抗体.csv\"\n",
    "emission_file = \"../data/常见染料_发射曲线.csv\"\n",
    "excitation_file = \"../data/常见染料_激发曲线.csv\"\n",
    "\n",
    "readin_marker_density = [\n",
    "    (:B220,  10000), \n",
    "    (:IgD,   4000), \n",
    "    (:HEL,   4000),\n",
    "    (:GL_7,  10000),\n",
    "    (:FAS,   3000),\n",
    "    (:CD138, 3000),\n",
    "    (:CD45_1,30000),\n",
    "    (:DEAD,  30000),\n",
    "    #(:CD23, 10000),\n",
    "]\n",
    "\n",
    "interaction = ColorfulFCM.get_interaction_sheet(readin_marker_density, marker_file, emission_file, excitation_file, Device)\n",
    "@time solution = ColorfulFCM.solve(interaction, readin_marker_density);"
   ]
  },
  {
   "cell_type": "code",
   "execution_count": 15,
   "metadata": {},
   "outputs": [
    {
     "data": {
      "text/html": [
       "<table class=\"data-frame\"><thead><tr><th></th><th>laser</th><th>lens_mu</th><th>lens_sig</th><th>marker</th><th>dye</th><th>score</th></tr><tr><th></th><th>Symbol</th><th>Int64</th><th>Int64</th><th>Symbol</th><th>Symbol</th><th>Float64</th></tr></thead><tbody><tr><th>1</th><td>blue</td><td>530</td><td>30</td><td>IgD</td><td>FITC</td><td>18210.2</td></tr><tr><th>2</th><td>red</td><td>670</td><td>14</td><td>HEL</td><td>Alexa647</td><td>22506.0</td></tr><tr><th>3</th><td>blue</td><td>590</td><td>40</td><td>GL_7</td><td>PE</td><td>8187.33</td></tr><tr><th>4</th><td>violet</td><td>440</td><td>50</td><td>CD138</td><td>BV421</td><td>10153.1</td></tr><tr><th>5</th><td>blue</td><td>695</td><td>40</td><td>CD45_1</td><td>Percp_Cy5_5</td><td>26723.4</td></tr><tr><th>6</th><td>violet</td><td>603</td><td>48</td><td>FAS</td><td>BV605</td><td>16371.4</td></tr><tr><th>7</th><td>red</td><td>780</td><td>60</td><td>B220</td><td>APC_Cy7</td><td>13924.4</td></tr><tr><th>8</th><td>red</td><td>720</td><td>30</td><td>DEAD</td><td>eFluor780</td><td>239.345</td></tr></tbody></table>"
      ],
      "text/plain": [
       "8×6 DataFrames.DataFrame\n",
       "│ Row │ laser  │ lens_mu │ lens_sig │ marker │ dye         │ score   │\n",
       "│     │ \u001b[90mSymbol\u001b[39m │ \u001b[90mInt64\u001b[39m   │ \u001b[90mInt64\u001b[39m    │ \u001b[90mSymbol\u001b[39m │ \u001b[90mSymbol\u001b[39m      │ \u001b[90mFloat64\u001b[39m │\n",
       "├─────┼────────┼─────────┼──────────┼────────┼─────────────┼─────────┤\n",
       "│ 1   │ blue   │ 530     │ 30       │ IgD    │ FITC        │ 18210.2 │\n",
       "│ 2   │ red    │ 670     │ 14       │ HEL    │ Alexa647    │ 22506.0 │\n",
       "│ 3   │ blue   │ 590     │ 40       │ GL_7   │ PE          │ 8187.33 │\n",
       "│ 4   │ violet │ 440     │ 50       │ CD138  │ BV421       │ 10153.1 │\n",
       "│ 5   │ blue   │ 695     │ 40       │ CD45_1 │ Percp_Cy5_5 │ 26723.4 │\n",
       "│ 6   │ violet │ 603     │ 48       │ FAS    │ BV605       │ 16371.4 │\n",
       "│ 7   │ red    │ 780     │ 60       │ B220   │ APC_Cy7     │ 13924.4 │\n",
       "│ 8   │ red    │ 720     │ 30       │ DEAD   │ eFluor780   │ 239.345 │"
      ]
     },
     "execution_count": 15,
     "metadata": {},
     "output_type": "execute_result"
    }
   ],
   "source": [
    "(value, optimal_idx) = [sum(item.score) for item in solution] |> findmax\n",
    "solution[optimal_idx]"
   ]
  },
  {
   "cell_type": "code",
   "execution_count": null,
   "metadata": {},
   "outputs": [],
   "source": []
  }
 ],
 "metadata": {
  "kernelspec": {
   "display_name": "Julia 1.0.0",
   "language": "julia",
   "name": "julia-1.0"
  },
  "language_info": {
   "file_extension": ".jl",
   "mimetype": "application/julia",
   "name": "julia",
   "version": "1.0.0"
  }
 },
 "nbformat": 4,
 "nbformat_minor": 2
}
