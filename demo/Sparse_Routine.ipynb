{
 "cells": [
  {
   "cell_type": "code",
   "execution_count": 22,
   "metadata": {},
   "outputs": [
    {
     "name": "stderr",
     "output_type": "stream",
     "text": [
      "WARNING: replacing module ColorfulFCM.\n"
     ]
    },
    {
     "data": {
      "text/plain": [
       "Main.ColorfulFCM"
      ]
     },
     "execution_count": 22,
     "metadata": {},
     "output_type": "execute_result"
    }
   ],
   "source": [
    "include(\"../src/ColorfulFCM.jl\")"
   ]
  },
  {
   "cell_type": "markdown",
   "metadata": {},
   "source": [
    "$$ \\frac{\\alpha_{ex}}{100} \\cdot \\langle \\alpha_{em} \\rangle \\cdot \\alpha_L$$"
   ]
  },
  {
   "cell_type": "code",
   "execution_count": 23,
   "metadata": {},
   "outputs": [
    {
     "name": "stdout",
     "output_type": "stream",
     "text": [
      " 10.141154 seconds (45.36 M allocations: 6.218 GiB, 14.32% gc time)\n"
     ]
    }
   ],
   "source": [
    "Device = ColorfulFCM.ThermoFisherDevice\n",
    "\n",
    "marker_file = \"../data/使用抗体.csv\"\n",
    "emission_file = \"../data/常见染料_发射曲线.csv\"\n",
    "excitation_file = \"../data/常见染料_激发曲线.csv\"\n",
    "\n",
    "readin_marker_density = [\n",
    "    (:B220,  10000), \n",
    "    (:IgD,   4000), \n",
    "    (:HEL,   4000),\n",
    "    (:GL_7,  10000),\n",
    "    (:FAS,   3000),\n",
    "    (:CD138, 3000),\n",
    "    (:CD45_1,3000),\n",
    "    (:DEAD,  30000),\n",
    "    #(:CD23, 10000),\n",
    "]\n",
    "\n",
    "interaction = ColorfulFCM.get_interaction_sheet(readin_marker_density, marker_file, emission_file, excitation_file, Device)\n",
    "@time solution = ColorfulFCM.solve(interaction, readin_marker_density);"
   ]
  },
  {
   "cell_type": "code",
   "execution_count": 24,
   "metadata": {},
   "outputs": [
    {
     "data": {
      "text/html": [
       "<table class=\"data-frame\"><thead><tr><th></th><th>laser</th><th>lens_mu</th><th>lens_sig</th><th>marker</th><th>dye</th><th>score</th></tr><tr><th></th><th>Symbol</th><th>Int64</th><th>Int64</th><th>Symbol</th><th>Symbol</th><th>Float64</th></tr></thead><tbody><tr><th>1</th><td>red</td><td>660</td><td>20</td><td>FAS</td><td>APC</td><td>18428.4</td></tr><tr><th>2</th><td>red</td><td>730</td><td>45</td><td>HEL</td><td>Alexa647</td><td>6675.3</td></tr><tr><th>3</th><td>blue</td><td>575</td><td>26</td><td>GL_7</td><td>PE</td><td>10308.7</td></tr><tr><th>4</th><td>violet</td><td>450</td><td>50</td><td>CD138</td><td>BV421</td><td>10324.5</td></tr><tr><th>5</th><td>blue</td><td>710</td><td>50</td><td>CD45_1</td><td>Percp_Cy5_5</td><td>18810.3</td></tr><tr><th>6</th><td>violet</td><td>605</td><td>40</td><td>B220</td><td>BV605</td><td>21132.7</td></tr><tr><th>7</th><td>blue</td><td>530</td><td>30</td><td>IgD</td><td>FITC</td><td>18210.2</td></tr><tr><th>8</th><td>red</td><td>780</td><td>60</td><td>DEAD</td><td>eFluor780</td><td>2255.22</td></tr></tbody></table>"
      ],
      "text/plain": [
       "8×6 DataFrames.DataFrame\n",
       "│ Row │ laser  │ lens_mu │ lens_sig │ marker │ dye         │ score   │\n",
       "│     │ \u001b[90mSymbol\u001b[39m │ \u001b[90mInt64\u001b[39m   │ \u001b[90mInt64\u001b[39m    │ \u001b[90mSymbol\u001b[39m │ \u001b[90mSymbol\u001b[39m      │ \u001b[90mFloat64\u001b[39m │\n",
       "├─────┼────────┼─────────┼──────────┼────────┼─────────────┼─────────┤\n",
       "│ 1   │ red    │ 660     │ 20       │ FAS    │ APC         │ 18428.4 │\n",
       "│ 2   │ red    │ 730     │ 45       │ HEL    │ Alexa647    │ 6675.3  │\n",
       "│ 3   │ blue   │ 575     │ 26       │ GL_7   │ PE          │ 10308.7 │\n",
       "│ 4   │ violet │ 450     │ 50       │ CD138  │ BV421       │ 10324.5 │\n",
       "│ 5   │ blue   │ 710     │ 50       │ CD45_1 │ Percp_Cy5_5 │ 18810.3 │\n",
       "│ 6   │ violet │ 605     │ 40       │ B220   │ BV605       │ 21132.7 │\n",
       "│ 7   │ blue   │ 530     │ 30       │ IgD    │ FITC        │ 18210.2 │\n",
       "│ 8   │ red    │ 780     │ 60       │ DEAD   │ eFluor780   │ 2255.22 │"
      ]
     },
     "execution_count": 24,
     "metadata": {},
     "output_type": "execute_result"
    }
   ],
   "source": [
    "(value, optimal_idx) = [sum(item.score) for item in solution] |> findmax\n",
    "solution[optimal_idx]"
   ]
  },
  {
   "cell_type": "code",
   "execution_count": null,
   "metadata": {},
   "outputs": [],
   "source": []
  }
 ],
 "metadata": {
  "kernelspec": {
   "display_name": "Julia 1.0.0",
   "language": "julia",
   "name": "julia-1.0"
  },
  "language_info": {
   "file_extension": ".jl",
   "mimetype": "application/julia",
   "name": "julia",
   "version": "1.0.0"
  }
 },
 "nbformat": 4,
 "nbformat_minor": 2
}
