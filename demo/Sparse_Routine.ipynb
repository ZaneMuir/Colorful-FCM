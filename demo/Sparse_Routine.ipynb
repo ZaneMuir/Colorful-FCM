{
 "cells": [
  {
   "cell_type": "code",
   "execution_count": 124,
   "metadata": {},
   "outputs": [
    {
     "name": "stderr",
     "output_type": "stream",
     "text": [
      "WARNING: replacing module ColorfulFCM.\n"
     ]
    },
    {
     "data": {
      "text/plain": [
       "Main.ColorfulFCM"
      ]
     },
     "execution_count": 124,
     "metadata": {},
     "output_type": "execute_result"
    },
    {
     "name": "stderr",
     "output_type": "stream",
     "text": [
      "WARNING: importing deprecated binding Base.gamma into Combinatorics.\n"
     ]
    }
   ],
   "source": [
    "using DataFrames\n",
    "using CSV\n",
    "using Query\n",
    "\n",
    "using Combinatorics\n",
    "\n",
    "include(\"../src/ColorfulFCM.jl\")"
   ]
  },
  {
   "cell_type": "code",
   "execution_count": 9,
   "metadata": {},
   "outputs": [],
   "source": [
    "Device = ColorfulFCM.ThermoFisherDevice\n",
    "\n",
    "marker_dye_sheet = CSV.read(\"../data/使用抗体.csv\", allowmissing=:none)\n",
    "dye_emission_sheet = CSV.read(\"../data/常见染料_发射曲线.csv\", allowmissing=:none)\n",
    "dye_excitation_sheet = CSV.read(\"../data/常见染料_激发曲线.csv\", allowmissing=:none);"
   ]
  },
  {
   "cell_type": "code",
   "execution_count": 121,
   "metadata": {},
   "outputs": [
    {
     "data": {
      "text/plain": [
       "5-element Array{Tuple{Symbol,Int64},1}:\n",
       " (:B220, 10000)\n",
       " (:IgD, 20)    \n",
       " (:Bcl_6, 4000)\n",
       " (:GL_7, 10000)\n",
       " (:FAS, 3000)  "
      ]
     },
     "execution_count": 121,
     "metadata": {},
     "output_type": "execute_result"
    }
   ],
   "source": [
    "readin_marker_density = [\n",
    "    (:B220, 10000), \n",
    "    (:IgD,  20), \n",
    "    (:Bcl_6,4000),\n",
    "    (:GL_7, 10000),\n",
    "    (:FAS,  3000),\n",
    "]"
   ]
  },
  {
   "cell_type": "code",
   "execution_count": 55,
   "metadata": {},
   "outputs": [],
   "source": [
    "function get_dyes_candidate(df::DataFrame, markername::Symbol)\n",
    "    @from item in df begin\n",
    "        @where item.markers == String(markername)\n",
    "        @select Symbol(item.dyes)\n",
    "        @collect\n",
    "    end\n",
    "end\n",
    "\n",
    "function get_dye_wave_score(df::DataFrame, dyename::Symbol, loc::Int64, scale::Int64=0)\n",
    "    waverange = range(loc-scale, stop=loc+scale, step=1)\n",
    "    score_array = @from item in df begin\n",
    "        @where item.Wavelength in waverange\n",
    "        @select item[dyename]\n",
    "        @collect\n",
    "    end\n",
    "    _score = mean(score_array)\n",
    "    return _score > 0 ? _score : 0.0\n",
    "end"
   ]
  },
  {
   "cell_type": "markdown",
   "metadata": {},
   "source": [
    "$$ \\frac{\\alpha_{ex}}{100} \\cdot \\langle \\alpha_{em} \\rangle \\cdot \\alpha_L$$"
   ]
  },
  {
   "cell_type": "code",
   "execution_count": 122,
   "metadata": {},
   "outputs": [],
   "source": [
    "sparse_interaction = DataFrame(\n",
    "    laser=Vector{Symbol}(undef, 0),\n",
    "    lens_mu = Vector{Int64}(undef, 0),\n",
    "    lens_sig = Vector{Int64}(undef, 0),\n",
    "    marker = Vector{Symbol}(undef, 0),\n",
    "    dye = Vector{Symbol}(undef, 0),\n",
    "    score = Vector{Float64}(undef, 0)\n",
    ")\n",
    "\n",
    "for (laser_name, laser_lambda) in Device.lasers, (marker_name, marker_density) in readin_marker_density\n",
    "    dye_candidate = get_dyes_candidate(marker_dye_sheet, marker_name)\n",
    "    for (lens_mu, lens_sig) in Device.lens[laser_name], dye_name in dye_candidate\n",
    "        excitation_score = get_dye_wave_score(dye_excitation_sheet, dye_name, laser_lambda)\n",
    "        emission_score = get_dye_wave_score(dye_emission_sheet, dye_name, lens_mu, lens_sig)\n",
    "        _score = excitation_score * emission_score * log10(marker_density)\n",
    "        push!(sparse_interaction, [laser_name, lens_mu, lens_sig, marker_name, dye_name, _score])\n",
    "    end\n",
    "end"
   ]
  },
  {
   "cell_type": "code",
   "execution_count": 126,
   "metadata": {},
   "outputs": [
    {
     "name": "stdout",
     "output_type": "stream",
     "text": [
      "search: \u001b[0m\u001b[1mp\u001b[22m\u001b[0m\u001b[1me\u001b[22m\u001b[0m\u001b[1mr\u001b[22m\u001b[0m\u001b[1mm\u001b[22m\u001b[0m\u001b[1mu\u001b[22m\u001b[0m\u001b[1mt\u001b[22m\u001b[0m\u001b[1ma\u001b[22m\u001b[0m\u001b[1mt\u001b[22m\u001b[0m\u001b[1mi\u001b[22m\u001b[0m\u001b[1mo\u001b[22m\u001b[0m\u001b[1mn\u001b[22m\u001b[0m\u001b[1ms\u001b[22m multiset_\u001b[0m\u001b[1mp\u001b[22m\u001b[0m\u001b[1me\u001b[22m\u001b[0m\u001b[1mr\u001b[22m\u001b[0m\u001b[1mm\u001b[22m\u001b[0m\u001b[1mu\u001b[22m\u001b[0m\u001b[1mt\u001b[22m\u001b[0m\u001b[1ma\u001b[22m\u001b[0m\u001b[1mt\u001b[22m\u001b[0m\u001b[1mi\u001b[22m\u001b[0m\u001b[1mo\u001b[22m\u001b[0m\u001b[1mn\u001b[22m\u001b[0m\u001b[1ms\u001b[22m\n",
      "\n"
     ]
    },
    {
     "data": {
      "text/markdown": [
       "```\n",
       "permutations(a)\n",
       "```\n",
       "\n",
       "Generate all permutations of an indexable object `a` in lexicographic order. Because the number of permutations can be very large, this function returns an iterator object. Use `collect(permutations(a))` to get an array of all permutations.\n",
       "\n",
       "---\n",
       "\n",
       "```\n",
       "permutations(a, t)\n",
       "```\n",
       "\n",
       "Generate all size `t` permutations of an indexable object `a`.\n"
      ],
      "text/plain": [
       "\u001b[36m  permutations(a)\u001b[39m\n",
       "\n",
       "  Generate all permutations of an indexable object \u001b[36ma\u001b[39m in lexicographic order.\n",
       "  Because the number of permutations can be very large, this function returns\n",
       "  an iterator object. Use \u001b[36mcollect(permutations(a))\u001b[39m to get an array of all\n",
       "  permutations.\n",
       "\n",
       "  ────────────────────────────────────────────────────────────────────────────\n",
       "\n",
       "\u001b[36m  permutations(a, t)\u001b[39m\n",
       "\n",
       "  Generate all size \u001b[36mt\u001b[39m permutations of an indexable object \u001b[36ma\u001b[39m."
      ]
     },
     "execution_count": 126,
     "metadata": {},
     "output_type": "execute_result"
    }
   ],
   "source": [
    "?permutations"
   ]
  },
  {
   "cell_type": "code",
   "execution_count": 128,
   "metadata": {},
   "outputs": [
    {
     "data": {
      "text/plain": [
       "960"
      ]
     },
     "execution_count": 128,
     "metadata": {},
     "output_type": "execute_result"
    }
   ],
   "source": [
    "permutations(readin_marker_density)"
   ]
  },
  {
   "cell_type": "code",
   "execution_count": 133,
   "metadata": {},
   "outputs": [
    {
     "data": {
      "text/html": [
       "<table class=\"data-frame\"><thead><tr><th></th><th>laser</th><th>lens_mu</th><th>lens_sig</th><th>marker</th><th>dye</th><th>score</th></tr><tr><th></th><th>Symbol</th><th>Int64</th><th>Int64</th><th>Symbol</th><th>Symbol</th><th>Float64</th></tr></thead><tbody><tr><th>1</th><td>red</td><td>660</td><td>20</td><td>B220</td><td>APC</td><td>21199.6</td></tr><tr><th>2</th><td>red</td><td>660</td><td>20</td><td>B220</td><td>APC_Cy7</td><td>2586.87</td></tr><tr><th>3</th><td>red</td><td>660</td><td>20</td><td>B220</td><td>BV605</td><td>0.0</td></tr><tr><th>4</th><td>red</td><td>660</td><td>20</td><td>B220</td><td>FITC</td><td>0.0</td></tr><tr><th>5</th><td>red</td><td>660</td><td>20</td><td>B220</td><td>PacificBlue</td><td>0.0</td></tr><tr><th>6</th><td>red</td><td>660</td><td>20</td><td>B220</td><td>PE</td><td>0.0</td></tr></tbody></table>"
      ],
      "text/plain": [
       "6×6 DataFrame\n",
       "│ Row │ laser  │ lens_mu │ lens_sig │ marker │ dye         │ score   │\n",
       "│     │ \u001b[90mSymbol\u001b[39m │ \u001b[90mInt64\u001b[39m   │ \u001b[90mInt64\u001b[39m    │ \u001b[90mSymbol\u001b[39m │ \u001b[90mSymbol\u001b[39m      │ \u001b[90mFloat64\u001b[39m │\n",
       "├─────┼────────┼─────────┼──────────┼────────┼─────────────┼─────────┤\n",
       "│ 1   │ red    │ 660     │ 20       │ B220   │ APC         │ 21199.6 │\n",
       "│ 2   │ red    │ 660     │ 20       │ B220   │ APC_Cy7     │ 2586.87 │\n",
       "│ 3   │ red    │ 660     │ 20       │ B220   │ BV605       │ 0.0     │\n",
       "│ 4   │ red    │ 660     │ 20       │ B220   │ FITC        │ 0.0     │\n",
       "│ 5   │ red    │ 660     │ 20       │ B220   │ PacificBlue │ 0.0     │\n",
       "│ 6   │ red    │ 660     │ 20       │ B220   │ PE          │ 0.0     │"
      ]
     },
     "execution_count": 133,
     "metadata": {},
     "output_type": "execute_result"
    }
   ],
   "source": [
    "head(sparse_interaction)"
   ]
  },
  {
   "cell_type": "code",
   "execution_count": 137,
   "metadata": {},
   "outputs": [
    {
     "name": "stderr",
     "output_type": "stream",
     "text": [
      "┌ Warning: Deprecated syntax `implicit assignment to global variable `_``.\n",
      "│ Use `global _` instead.\n",
      "└ @ nothing none:0\n",
      "┌ Warning: Loop variable `_` around In[137]:16 overwrites a variable in an enclosing scope. In the future the variable will be local to the loop instead.\n",
      "└ @ nothing In[137]:16\n"
     ]
    }
   ],
   "source": [
    "solution_order = permutations(readin_marker_density)\n",
    "solution = Vector{DataFrame}(undef, 0)\n",
    "for marker_order in solution_order\n",
    "    epoch_sheet = sparse_interaction\n",
    "    \n",
    "    possible_result = DataFrame(\n",
    "        laser=Vector{Symbol}(undef, 0),\n",
    "        lens_mu = Vector{Int64}(undef, 0),\n",
    "        lens_sig = Vector{Int64}(undef, 0),\n",
    "        marker = Vector{Symbol}(undef, 0),\n",
    "        dye = Vector{Symbol}(undef, 0),\n",
    "        score = Vector{Float64}(undef, 0)\n",
    "    )\n",
    "    \n",
    "    try\n",
    "        for (each_marker, _) in marker_order\n",
    "            thismarker_sheet = epoch_sheet[epoch_sheet.marker .== each_marker, :]\n",
    "            j, ridx = findmax(thismarker_sheet.score)\n",
    "            _choice = thismarker_sheet[ridx, :]\n",
    "            push!(possible_result, convert(Array, _choice))\n",
    "\n",
    "            epoch_sheet = epoch_sheet[(epoch_sheet.lens_mu .!= _choice.lens_mu).&(epoch_sheet.marker .!= _choice.marker).&(epoch_sheet.dye .!= _choice.dye), :]\n",
    "        end\n",
    "    catch e\n",
    "        continue\n",
    "    end\n",
    "    \n",
    "    push!(solution, possible_result)\n",
    "\n",
    "end"
   ]
  },
  {
   "cell_type": "code",
   "execution_count": 143,
   "metadata": {},
   "outputs": [
    {
     "data": {
      "text/html": [
       "<table class=\"data-frame\"><thead><tr><th></th><th>laser</th><th>lens_mu</th><th>lens_sig</th><th>marker</th><th>dye</th><th>score</th></tr><tr><th></th><th>Symbol</th><th>Int64</th><th>Int64</th><th>Symbol</th><th>Symbol</th><th>Float64</th></tr></thead><tbody><tr><th>1</th><td>blue</td><td>710</td><td>50</td><td>B220</td><td>Percp_Cy5_5</td><td>21638.9</td></tr><tr><th>2</th><td>blue</td><td>530</td><td>30</td><td>IgD</td><td>FITC</td><td>6577.36</td></tr><tr><th>3</th><td>red</td><td>660</td><td>20</td><td>FAS</td><td>APC</td><td>18428.4</td></tr><tr><th>4</th><td>red</td><td>730</td><td>45</td><td>Bcl_6</td><td>Alexa647</td><td>6675.3</td></tr><tr><th>5</th><td>blue</td><td>575</td><td>26</td><td>GL_7</td><td>PE</td><td>10308.7</td></tr></tbody></table>"
      ],
      "text/plain": [
       "5×6 DataFrame\n",
       "│ Row │ laser  │ lens_mu │ lens_sig │ marker │ dye         │ score   │\n",
       "│     │ \u001b[90mSymbol\u001b[39m │ \u001b[90mInt64\u001b[39m   │ \u001b[90mInt64\u001b[39m    │ \u001b[90mSymbol\u001b[39m │ \u001b[90mSymbol\u001b[39m      │ \u001b[90mFloat64\u001b[39m │\n",
       "├─────┼────────┼─────────┼──────────┼────────┼─────────────┼─────────┤\n",
       "│ 1   │ blue   │ 710     │ 50       │ B220   │ Percp_Cy5_5 │ 21638.9 │\n",
       "│ 2   │ blue   │ 530     │ 30       │ IgD    │ FITC        │ 6577.36 │\n",
       "│ 3   │ red    │ 660     │ 20       │ FAS    │ APC         │ 18428.4 │\n",
       "│ 4   │ red    │ 730     │ 45       │ Bcl_6  │ Alexa647    │ 6675.3  │\n",
       "│ 5   │ blue   │ 575     │ 26       │ GL_7   │ PE          │ 10308.7 │"
      ]
     },
     "execution_count": 143,
     "metadata": {},
     "output_type": "execute_result"
    }
   ],
   "source": [
    "(value, optimal_idx) = [sum(item.score) for item in solution] |> findmax\n",
    "solution[optimal_idx]"
   ]
  }
 ],
 "metadata": {
  "kernelspec": {
   "display_name": "Julia 0.7.0",
   "language": "julia",
   "name": "julia-0.7"
  },
  "language_info": {
   "file_extension": ".jl",
   "mimetype": "application/julia",
   "name": "julia",
   "version": "0.7.0"
  }
 },
 "nbformat": 4,
 "nbformat_minor": 2
}
