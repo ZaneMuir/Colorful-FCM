{
 "cells": [
  {
   "cell_type": "code",
   "execution_count": 25,
   "metadata": {},
   "outputs": [
    {
     "name": "stderr",
     "output_type": "stream",
     "text": [
      "WARNING: replacing module ColorfulFCM.\n"
     ]
    },
    {
     "data": {
      "text/plain": [
       "Main.ColorfulFCM"
      ]
     },
     "execution_count": 25,
     "metadata": {},
     "output_type": "execute_result"
    }
   ],
   "source": [
    "# include(\"../src/Device.jl\")\n",
    "# include(\"../src/ReadIn.jl\")\n",
    "# include(\"../src/Evaluation.jl\")\n",
    "include(\"../src/ColorfulFCM.jl\")"
   ]
  },
  {
   "cell_type": "markdown",
   "metadata": {},
   "source": [
    "# 特别说明\n",
    "- 减少了不必要的模块划分\n",
    "- `get_result`在julia 0.7会直接改变参数，因此重命名为`get_result!`: 即确保每次运行时各个参数都是未经处理的。"
   ]
  },
  {
   "cell_type": "code",
   "execution_count": 26,
   "metadata": {
    "scrolled": false
   },
   "outputs": [
    {
     "name": "stderr",
     "output_type": "stream",
     "text": [
      "┌ Warning: indexing with colon as row will create a copy in the future use df[col_inds] to get the columns without copying\n",
      "│   caller = (::getfield(Main.ColorfulFCM, Symbol(\"##4#5\")){Dict{Any,Any}})(::DataFrames.DataFrame) at ReadIn.jl:39\n",
      "└ @ Main.ColorfulFCM /Users/yizhan/Documents/github/Colorful-FCM/src/ReadIn.jl:39\n",
      "┌ Warning: indexing with colon as row will create a copy in the future use df[col_inds] to get the columns without copying\n",
      "│   caller = get_template(::DataFrames.DataFrame, ::Array{Symbol,1}, ::Array{Main.ColorfulFCM.Dye,1}, ::Int64) at ReadIn.jl:141\n",
      "└ @ Main.ColorfulFCM /Users/yizhan/Documents/github/Colorful-FCM/src/ReadIn.jl:141\n"
     ]
    },
    {
     "name": "stdout",
     "output_type": "stream",
     "text": [
      "data stored in:  \n",
      "  0.995741 seconds (1.82 M allocations: 87.304 MiB, 4.02% gc time)\n"
     ]
    },
    {
     "name": "stderr",
     "output_type": "stream",
     "text": [
      "┌ Warning: indexing with colon as row will create a copy in the future use df[col_inds] to get the columns without copying\n",
      "│   caller = initiate_template_matrix(::Array{Tuple{Symbol,Float64},1}, ::Array{Float64,3}, ::Main.ColorfulFCM.FCMDevice, ::Main.ColorfulFCM.NeoData) at Evaluation.jl:46\n",
      "└ @ Main.ColorfulFCM /Users/yizhan/Documents/github/Colorful-FCM/src/Evaluation.jl:46\n"
     ]
    },
    {
     "data": {
      "text/plain": [
       "Dict{Symbol,Tuple{Symbol,Float64,Int64}} with 2 entries:\n",
       "  :FAS => (:APC, 4.31756e6, 1)\n",
       "  :CD4 => (:APC, NaN, 1)"
      ]
     },
     "execution_count": 26,
     "metadata": {},
     "output_type": "execute_result"
    }
   ],
   "source": [
    "excitation_csv = \"../data/常见染料_发射曲线.csv\"\n",
    "emission_csv   = \"../data/常见染料_激发曲线.csv\"\n",
    "antigens_csv   = \"../data/使用抗体.csv\"\n",
    "\n",
    "@time (meta, template, interaction) = ColorfulFCM.get_normalized_data(excitation_csv, emission_csv, antigens_csv, \n",
    "    ColorfulFCM.ThermoFisherDevice);\n",
    "\n",
    "readin_marker_density = [\n",
    "    (:B220, 10000), \n",
    "    (:IgD,  20), \n",
    "    (:Bcl_6,4000),\n",
    "    (:GL_7, 10000),\n",
    "    (:FAS,  3000),\n",
    "]\n",
    "\n",
    "ColorfulFCM.get_result!(meta, template, interaction, ColorfulFCM.ThermoFisherDevice, readin_marker_density)"
   ]
  },
  {
   "cell_type": "code",
   "execution_count": 31,
   "metadata": {},
   "outputs": [
    {
     "data": {
      "text/plain": [
       "18-element Array{Float64,1}:\n",
       "    0.0                  \n",
       "   -0.1613274171482894   \n",
       "    0.0                  \n",
       "    0.0                  \n",
       "   -0.03744789204095059  \n",
       " -Inf                    \n",
       "    0.0                  \n",
       "    0.0                  \n",
       "    0.0                  \n",
       "    0.0                  \n",
       "    0.0                  \n",
       "   -0.8488188022686387   \n",
       "    0.0                  \n",
       "    0.0                  \n",
       "    0.0                  \n",
       "    0.0                  \n",
       "   -0.0024794694598156354\n",
       "    0.0                  "
      ]
     },
     "execution_count": 31,
     "metadata": {},
     "output_type": "execute_result"
    }
   ],
   "source": [
    "interaction[:red][780][:BV421]"
   ]
  },
  {
   "cell_type": "code",
   "execution_count": 34,
   "metadata": {},
   "outputs": [
    {
     "data": {
      "text/plain": [
       "18-element Array{Main.ColorfulFCM.Dye,1}:\n",
       " Main.ColorfulFCM.Dye(:APC, 5)        \n",
       " Main.ColorfulFCM.Dye(:APC_Cy7, 2)    \n",
       " Main.ColorfulFCM.Dye(:Alexa488, 1)   \n",
       " Main.ColorfulFCM.Dye(:Alexa647, 4)   \n",
       " Main.ColorfulFCM.Dye(:Alexa700, 1)   \n",
       " Main.ColorfulFCM.Dye(:BV421, 4)      \n",
       " Main.ColorfulFCM.Dye(:BV510, 3)      \n",
       " Main.ColorfulFCM.Dye(:BV605, 4)      \n",
       " Main.ColorfulFCM.Dye(:DAPI, 3)       \n",
       " Main.ColorfulFCM.Dye(:FITC, 2)       \n",
       " Main.ColorfulFCM.Dye(:PE, 5)         \n",
       " Main.ColorfulFCM.Dye(:PE_Cy7, 4)     \n",
       " Main.ColorfulFCM.Dye(:PE_Dazzle, 5)  \n",
       " Main.ColorfulFCM.Dye(:PacificBlue, 2)\n",
       " Main.ColorfulFCM.Dye(:Percp_Cy5_5, 2)\n",
       " Main.ColorfulFCM.Dye(:SB436, 3)      \n",
       " Main.ColorfulFCM.Dye(:SB702, 3)      \n",
       " Main.ColorfulFCM.Dye(:eFluor780, 5)  "
      ]
     },
     "execution_count": 34,
     "metadata": {},
     "output_type": "execute_result"
    }
   ],
   "source": [
    "meta.dyes  # TODO: what is the interaction ??"
   ]
  },
  {
   "cell_type": "code",
   "execution_count": null,
   "metadata": {},
   "outputs": [],
   "source": []
  }
 ],
 "metadata": {
  "kernelspec": {
   "display_name": "Julia 1.0.0",
   "language": "julia",
   "name": "julia-1.0"
  },
  "language_info": {
   "file_extension": ".jl",
   "mimetype": "application/julia",
   "name": "julia",
   "version": "1.0.0"
  }
 },
 "nbformat": 4,
 "nbformat_minor": 2
}
