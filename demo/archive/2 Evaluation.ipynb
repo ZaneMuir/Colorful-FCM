{
 "cells": [
  {
   "cell_type": "code",
   "execution_count": 1,
   "metadata": {},
   "outputs": [
    {
     "name": "stderr",
     "output_type": "stream",
     "text": [
      "WARNING: Method definition ==(Base.Nullable{S}, Base.Nullable{T}) in module Base at nullable.jl:238 overwritten in module NullableArrays at /Users/zane/.julia/v0.6/NullableArrays/src/operators.jl:99.\n"
     ]
    }
   ],
   "source": [
    "include(\"src/Device.jl\")\n",
    "include(\"src/ReadIn.jl\")\n",
    "\n",
    "excitation_csv = \"data/常见染料_发射曲线.csv\"\n",
    "emission_csv   = \"data/常见染料_激发曲线.csv\"\n",
    "antigens_csv   = \"data/使用抗体.csv\";"
   ]
  },
  {
   "cell_type": "code",
   "execution_count": 2,
   "metadata": {},
   "outputs": [
    {
     "name": "stdout",
     "output_type": "stream",
     "text": [
      "data restored from: 69e1650b35c4814f2864dc3dc0c1ee\n",
      "  7.335196 seconds (6.77 M allocations: 355.449 MiB, 2.38% gc time)\n"
     ]
    }
   ],
   "source": [
    "@time (metadata, template, interaction) = ReadIn.get_normalized_data(excitation_csv, emission_csv, antigens_csv, \n",
    "    Device.ThermoFisher);"
   ]
  },
  {
   "cell_type": "code",
   "execution_count": 5,
   "metadata": {},
   "outputs": [
    {
     "data": {
      "text/plain": [
       "41-element Array{Tuple{Symbol,Float64},1}:\n",
       " (:Bcl_6, 4000.0)  \n",
       " (:CD11c, 1.0)     \n",
       " (:GL_7, 1.0)      \n",
       " (:CD8alpha, 1.0)  \n",
       " (:B220, 1.0)      \n",
       " (:CD3, 1.0)       \n",
       " (:CD45_1, 1.0)    \n",
       " (:CD45_2, 1.0)    \n",
       " (:CD8, 1.0)       \n",
       " (:CD80, 1.0)      \n",
       " (:F4_80, 1.0)     \n",
       " (:FAS, 1.0)       \n",
       " (:IgG, 1.0)       \n",
       " ⋮                 \n",
       " (:TCR_beta, 1.0)  \n",
       " (:Thy1_2, 1.0)    \n",
       " (:AnnexinV, 1.0)  \n",
       " (:CD138, 1.0)     \n",
       " (:CD38, 1.0)      \n",
       " (:CD86, 1.0)      \n",
       " (:CXCR4, 1.0)     \n",
       " (:TCRValpha2, 1.0)\n",
       " (:Thy1_1, 1.0)    \n",
       " (:PD_1, 1.0)      \n",
       " (:PDL_1, 100.0)   \n",
       " (:CD205, 1.0)     "
      ]
     },
     "execution_count": 5,
     "metadata": {},
     "output_type": "execute_result"
    }
   ],
   "source": [
    "# NOTE: this step shall be done manually or using Interactive module.\n",
    "readin_marker_density = [\n",
    "    (:PDL_1, 100), \n",
    "    (:IgD,   20,  :biotin), \n",
    "    (:Bcl_6, 4000)\n",
    "]\n",
    "\n",
    "function get_marker_density(markers, readin_marker_density; default_value=1, default_flag=:normal)\n",
    "    alpha_dict = Dict(:normal=>1, :biotin=>4)\n",
    "    result = Dict{Symbol, Float64}()\n",
    "    for item in markers\n",
    "        result[item] = default_value*alpha_dict[default_flag]\n",
    "    end\n",
    "    for item in readin_marker_density\n",
    "        if length(item) == 2\n",
    "            result[item[1]] = item[2]*alpha_dict[default_flag]\n",
    "        elseif length(item) == 3\n",
    "            result[item[1]] = item[2]*alpha_dict[item[3]]\n",
    "        else\n",
    "            throw(BoundsError(\"readin_marker_density have invalid shape. require: Array{Tuple{Symbol, Float64[, Symbol]}}\"))\n",
    "        end\n",
    "    end\n",
    "    [(name, result[name]) for name in markers]\n",
    "end\n",
    "\n",
    "marker_density = get_marker_density(metadata.markers, readin_marker_density)"
   ]
  },
  {
   "cell_type": "code",
   "execution_count": 6,
   "metadata": {},
   "outputs": [],
   "source": [
    "initiation = begin\n",
    "    template_n = 0\n",
    "    demo_template = template\n",
    "    for (each_laser, ports) in Device.ThermoFisher.lens\n",
    "        for (each_port, _) in ports\n",
    "            template_n += 1\n",
    "            \n",
    "            for i=1:length(metadata.markers)\n",
    "                demo_template[i,:,template_n] *= log(marker_density[i][2])\n",
    "            end\n",
    "            \n",
    "            for i=1:length(metadata.dyes)\n",
    "                dyename = metadata.dyes[i].name\n",
    "                \n",
    "                demo_template[:,i,template_n] *= 2^metadata.dyes[i].brightness *\n",
    "                    metadata.exratio[each_laser][1, dyename]/100 * \n",
    "                    mean(metadata.emratio[each_laser][each_port][:, dyename])\n",
    "            end\n",
    "        end\n",
    "    end\n",
    "    demo_template[isnan.(demo_template)]=-999\n",
    "    demo_template\n",
    "end;"
   ]
  },
  {
   "cell_type": "code",
   "execution_count": 7,
   "metadata": {
    "scrolled": true
   },
   "outputs": [
    {
     "data": {
      "text/plain": [
       "findmax_pos (generic function with 2 methods)"
      ]
     },
     "execution_count": 7,
     "metadata": {},
     "output_type": "execute_result"
    }
   ],
   "source": [
    "function findmax_pos(ndarray, n=3)\n",
    "    value, pos = findmax(ndarray)\n",
    "    value,(pos % size(ndarray)[1], \n",
    "        ceil(pos/size(ndarray)[1]) % size(ndarray)[2] |> Int, \n",
    "        ceil(pos/size(ndarray)[1]/size(ndarray)[2]) % size(ndarray)[1] |> Int )\n",
    "end"
   ]
  },
  {
   "cell_type": "code",
   "execution_count": 8,
   "metadata": {
    "scrolled": false
   },
   "outputs": [
    {
     "name": "stdout",
     "output_type": "stream",
     "text": [
      "(:PDL_1, 100)783284.2722558198 (1, 3, 1) Bcl_6 Alexa647\n",
      "(:IgD, 20, :biotin)32635.75938529558 (40, 9, 1) PDL_1 PE_Cy7\n",
      "(:Bcl_6, 4000)83.8441790858306 (27, 8, 4) IgD PE\n"
     ]
    },
    {
     "data": {
      "text/plain": [
       "41×12×18 Array{Float64,3}:\n",
       "[:, :, 1] =\n",
       " NaN    NaN    NaN  NaN    NaN    NaN    NaN    NaN  NaN  NaN    NaN    NaN  \n",
       "  -0.0    0.0  NaN   -0.0   -0.0   -0.0   -0.0  NaN  NaN   -0.0   -0.0   -0.0\n",
       "  -0.0    0.0  NaN   -0.0   -0.0   -0.0   -0.0  NaN  NaN   -0.0   -0.0   -0.0\n",
       "  -0.0    0.0  NaN   -0.0   -0.0   -0.0   -0.0  NaN  NaN   -0.0   -0.0   -0.0\n",
       "  -0.0    0.0  NaN   -0.0   -0.0   -0.0   -0.0  NaN  NaN   -0.0   -0.0   -0.0\n",
       "  -0.0    0.0  NaN   -0.0   -0.0   -0.0   -0.0  NaN  NaN   -0.0   -0.0   -0.0\n",
       "  -0.0    0.0  NaN   -0.0   -0.0   -0.0   -0.0  NaN  NaN   -0.0   -0.0   -0.0\n",
       "  -0.0    0.0  NaN   -0.0   -0.0   -0.0   -0.0  NaN  NaN   -0.0   -0.0   -0.0\n",
       "  -0.0    0.0  NaN   -0.0   -0.0   -0.0   -0.0  NaN  NaN   -0.0   -0.0   -0.0\n",
       "  -0.0    0.0  NaN   -0.0   -0.0   -0.0   -0.0  NaN  NaN   -0.0   -0.0   -0.0\n",
       "  -0.0    0.0  NaN   -0.0   -0.0   -0.0   -0.0  NaN  NaN   -0.0   -0.0   -0.0\n",
       "  -0.0    0.0  NaN   -0.0   -0.0   -0.0   -0.0  NaN  NaN   -0.0   -0.0   -0.0\n",
       "  -0.0    0.0  NaN   -0.0   -0.0   -0.0   -0.0  NaN  NaN   -0.0   -0.0   -0.0\n",
       "   ⋮                                ⋮                              ⋮         \n",
       "  -0.0    0.0  NaN   -0.0   -0.0   -0.0   -0.0  NaN  NaN   -0.0   -0.0   -0.0\n",
       "  -0.0    0.0  NaN   -0.0   -0.0   -0.0   -0.0  NaN  NaN   -0.0   -0.0   -0.0\n",
       "  -0.0    0.0  NaN   -0.0   -0.0   -0.0   -0.0  NaN  NaN   -0.0   -0.0   -0.0\n",
       "  -0.0    0.0  NaN   -0.0   -0.0   -0.0   -0.0  NaN  NaN   -0.0   -0.0   -0.0\n",
       "  -0.0    0.0  NaN   -0.0   -0.0   -0.0   -0.0  NaN  NaN   -0.0   -0.0   -0.0\n",
       "  -0.0    0.0  NaN   -0.0   -0.0   -0.0   -0.0  NaN  NaN   -0.0   -0.0   -0.0\n",
       "  -0.0    0.0  NaN   -0.0   -0.0   -0.0   -0.0  NaN  NaN   -0.0   -0.0   -0.0\n",
       "  -0.0    0.0  NaN   -0.0   -0.0   -0.0   -0.0  NaN  NaN   -0.0   -0.0   -0.0\n",
       "  -0.0    0.0  NaN   -0.0   -0.0   -0.0   -0.0  NaN  NaN   -0.0   -0.0   -0.0\n",
       "  -0.0    0.0  NaN   -0.0   -0.0   -0.0   -0.0  NaN  NaN   -0.0   -0.0   -0.0\n",
       " NaN    NaN    NaN  NaN    NaN    NaN    NaN    NaN  NaN  NaN    NaN    NaN  \n",
       "  -0.0    0.0  NaN   -0.0   -0.0   -0.0   -0.0  NaN  NaN   -0.0   -0.0   -0.0\n",
       "\n",
       "[:, :, 2] =\n",
       " NaN    NaN    NaN  NaN    NaN    NaN    NaN    NaN  NaN  NaN    NaN    NaN  \n",
       "   0.0    0.0  NaN    0.0    0.0    0.0    0.0  NaN  NaN   -0.0    0.0   -0.0\n",
       "   0.0    0.0  NaN    0.0    0.0    0.0    0.0  NaN  NaN   -0.0    0.0   -0.0\n",
       "   0.0    0.0  NaN    0.0    0.0    0.0    0.0  NaN  NaN   -0.0    0.0   -0.0\n",
       "   0.0    0.0  NaN    0.0    0.0    0.0    0.0  NaN  NaN   -0.0    0.0   -0.0\n",
       "   0.0    0.0  NaN    0.0    0.0    0.0    0.0  NaN  NaN   -0.0    0.0   -0.0\n",
       "   0.0    0.0  NaN    0.0    0.0    0.0    0.0  NaN  NaN   -0.0    0.0   -0.0\n",
       "   0.0    0.0  NaN    0.0    0.0    0.0    0.0  NaN  NaN   -0.0    0.0   -0.0\n",
       "   0.0    0.0  NaN    0.0    0.0    0.0    0.0  NaN  NaN   -0.0    0.0   -0.0\n",
       "   0.0    0.0  NaN    0.0    0.0    0.0    0.0  NaN  NaN   -0.0    0.0   -0.0\n",
       "   0.0    0.0  NaN    0.0    0.0    0.0    0.0  NaN  NaN   -0.0    0.0   -0.0\n",
       "   0.0    0.0  NaN    0.0    0.0    0.0    0.0  NaN  NaN   -0.0    0.0   -0.0\n",
       "   0.0    0.0  NaN    0.0    0.0    0.0    0.0  NaN  NaN   -0.0    0.0   -0.0\n",
       "   ⋮                                ⋮                              ⋮         \n",
       "   0.0    0.0  NaN    0.0    0.0    0.0    0.0  NaN  NaN   -0.0    0.0   -0.0\n",
       "   0.0    0.0  NaN    0.0    0.0    0.0    0.0  NaN  NaN   -0.0    0.0   -0.0\n",
       "   0.0    0.0  NaN    0.0    0.0    0.0    0.0  NaN  NaN   -0.0    0.0   -0.0\n",
       "   0.0    0.0  NaN    0.0    0.0    0.0    0.0  NaN  NaN   -0.0    0.0   -0.0\n",
       "   0.0    0.0  NaN    0.0    0.0    0.0    0.0  NaN  NaN   -0.0    0.0   -0.0\n",
       "   0.0    0.0  NaN    0.0    0.0    0.0    0.0  NaN  NaN   -0.0    0.0   -0.0\n",
       "   0.0    0.0  NaN    0.0    0.0    0.0    0.0  NaN  NaN   -0.0    0.0   -0.0\n",
       "   0.0    0.0  NaN    0.0    0.0    0.0    0.0  NaN  NaN   -0.0    0.0   -0.0\n",
       "   0.0    0.0  NaN    0.0    0.0    0.0    0.0  NaN  NaN   -0.0    0.0   -0.0\n",
       "   0.0    0.0  NaN    0.0    0.0    0.0    0.0  NaN  NaN   -0.0    0.0   -0.0\n",
       " NaN    NaN    NaN  NaN    NaN    NaN    NaN    NaN  NaN  NaN    NaN    NaN  \n",
       "   0.0    0.0  NaN    0.0    0.0    0.0    0.0  NaN  NaN   -0.0    0.0   -0.0\n",
       "\n",
       "[:, :, 3] =\n",
       " NaN    NaN    NaN  NaN    NaN    NaN    NaN    NaN  NaN  NaN    NaN    NaN  \n",
       "   0.0    0.0  NaN    0.0    0.0    0.0    0.0  NaN  NaN    0.0    0.0    0.0\n",
       "   0.0    0.0  NaN    0.0    0.0    0.0    0.0  NaN  NaN    0.0    0.0    0.0\n",
       "   0.0    0.0  NaN    0.0    0.0    0.0    0.0  NaN  NaN    0.0    0.0    0.0\n",
       "   0.0    0.0  NaN    0.0    0.0    0.0    0.0  NaN  NaN    0.0    0.0    0.0\n",
       "   0.0    0.0  NaN    0.0    0.0    0.0    0.0  NaN  NaN    0.0    0.0    0.0\n",
       "   0.0    0.0  NaN    0.0    0.0    0.0    0.0  NaN  NaN    0.0    0.0    0.0\n",
       "   0.0    0.0  NaN    0.0    0.0    0.0    0.0  NaN  NaN    0.0    0.0    0.0\n",
       "   0.0    0.0  NaN    0.0    0.0    0.0    0.0  NaN  NaN    0.0    0.0    0.0\n",
       "   0.0    0.0  NaN    0.0    0.0    0.0    0.0  NaN  NaN    0.0    0.0    0.0\n",
       "   0.0    0.0  NaN    0.0    0.0    0.0    0.0  NaN  NaN    0.0    0.0    0.0\n",
       "   0.0    0.0  NaN    0.0    0.0    0.0    0.0  NaN  NaN    0.0    0.0    0.0\n",
       "   0.0    0.0  NaN    0.0    0.0    0.0    0.0  NaN  NaN    0.0    0.0    0.0\n",
       "   ⋮                                ⋮                              ⋮         \n",
       "   0.0    0.0  NaN    0.0    0.0    0.0    0.0  NaN  NaN    0.0    0.0    0.0\n",
       "   0.0    0.0  NaN    0.0    0.0    0.0    0.0  NaN  NaN    0.0    0.0    0.0\n",
       "   0.0    0.0  NaN    0.0    0.0    0.0    0.0  NaN  NaN    0.0    0.0    0.0\n",
       "   0.0    0.0  NaN    0.0    0.0    0.0    0.0  NaN  NaN    0.0    0.0    0.0\n",
       "   0.0    0.0  NaN    0.0    0.0    0.0    0.0  NaN  NaN    0.0    0.0    0.0\n",
       "   0.0    0.0  NaN    0.0    0.0    0.0    0.0  NaN  NaN    0.0    0.0    0.0\n",
       "   0.0    0.0  NaN    0.0    0.0    0.0    0.0  NaN  NaN    0.0    0.0    0.0\n",
       "   0.0    0.0  NaN    0.0    0.0    0.0    0.0  NaN  NaN    0.0    0.0    0.0\n",
       "   0.0    0.0  NaN    0.0    0.0    0.0    0.0  NaN  NaN    0.0    0.0    0.0\n",
       "   0.0    0.0  NaN    0.0    0.0    0.0    0.0  NaN  NaN    0.0    0.0    0.0\n",
       " NaN    NaN    NaN  NaN    NaN    NaN    NaN    NaN  NaN  NaN    NaN    NaN  \n",
       "   0.0    0.0  NaN    0.0    0.0    0.0    0.0  NaN  NaN    0.0    0.0    0.0\n",
       "\n",
       "...\n",
       "\n",
       "[:, :, 16] =\n",
       " NaN    NaN    NaN  NaN    NaN    NaN    NaN    NaN  NaN  NaN    NaN    NaN  \n",
       "  -0.0   -0.0  NaN   -0.0   -0.0   -0.0   -0.0  NaN  NaN   -0.0   -0.0   -0.0\n",
       "  -0.0   -0.0  NaN   -0.0   -0.0   -0.0   -0.0  NaN  NaN   -0.0   -0.0   -0.0\n",
       "  -0.0   -0.0  NaN   -0.0   -0.0   -0.0   -0.0  NaN  NaN   -0.0   -0.0   -0.0\n",
       "  -0.0   -0.0  NaN   -0.0   -0.0   -0.0   -0.0  NaN  NaN   -0.0   -0.0   -0.0\n",
       "  -0.0   -0.0  NaN   -0.0   -0.0   -0.0   -0.0  NaN  NaN   -0.0   -0.0   -0.0\n",
       "  -0.0   -0.0  NaN   -0.0   -0.0   -0.0   -0.0  NaN  NaN   -0.0   -0.0   -0.0\n",
       "  -0.0   -0.0  NaN   -0.0   -0.0   -0.0   -0.0  NaN  NaN   -0.0   -0.0   -0.0\n",
       "  -0.0   -0.0  NaN   -0.0   -0.0   -0.0   -0.0  NaN  NaN   -0.0   -0.0   -0.0\n",
       "  -0.0   -0.0  NaN   -0.0   -0.0   -0.0   -0.0  NaN  NaN   -0.0   -0.0   -0.0\n",
       "  -0.0   -0.0  NaN   -0.0   -0.0   -0.0   -0.0  NaN  NaN   -0.0   -0.0   -0.0\n",
       "  -0.0   -0.0  NaN   -0.0   -0.0   -0.0   -0.0  NaN  NaN   -0.0   -0.0   -0.0\n",
       "  -0.0   -0.0  NaN   -0.0   -0.0   -0.0   -0.0  NaN  NaN   -0.0   -0.0   -0.0\n",
       "   ⋮                                ⋮                              ⋮         \n",
       "  -0.0   -0.0  NaN   -0.0   -0.0   -0.0   -0.0  NaN  NaN   -0.0   -0.0   -0.0\n",
       "  -0.0   -0.0  NaN   -0.0   -0.0   -0.0   -0.0  NaN  NaN   -0.0   -0.0   -0.0\n",
       "  -0.0   -0.0  NaN   -0.0   -0.0   -0.0   -0.0  NaN  NaN   -0.0   -0.0   -0.0\n",
       "  -0.0   -0.0  NaN   -0.0   -0.0   -0.0   -0.0  NaN  NaN   -0.0   -0.0   -0.0\n",
       "  -0.0   -0.0  NaN   -0.0   -0.0   -0.0   -0.0  NaN  NaN   -0.0   -0.0   -0.0\n",
       "  -0.0   -0.0  NaN   -0.0   -0.0   -0.0   -0.0  NaN  NaN   -0.0   -0.0   -0.0\n",
       "  -0.0   -0.0  NaN   -0.0   -0.0   -0.0   -0.0  NaN  NaN   -0.0   -0.0   -0.0\n",
       "  -0.0   -0.0  NaN   -0.0   -0.0   -0.0   -0.0  NaN  NaN   -0.0   -0.0   -0.0\n",
       "  -0.0   -0.0  NaN   -0.0   -0.0   -0.0   -0.0  NaN  NaN   -0.0   -0.0   -0.0\n",
       "  -0.0   -0.0  NaN   -0.0   -0.0   -0.0   -0.0  NaN  NaN   -0.0   -0.0   -0.0\n",
       " NaN    NaN    NaN  NaN    NaN    NaN    NaN    NaN  NaN  NaN    NaN    NaN  \n",
       "  -0.0   -0.0  NaN   -0.0   -0.0   -0.0   -0.0  NaN  NaN   -0.0   -0.0   -0.0\n",
       "\n",
       "[:, :, 17] =\n",
       " NaN    NaN    NaN  NaN    NaN    NaN    NaN    NaN  NaN  NaN    NaN    NaN  \n",
       "   0.0    0.0  NaN    0.0    0.0    0.0    0.0  NaN  NaN   -0.0    0.0    0.0\n",
       "   0.0    0.0  NaN    0.0    0.0    0.0    0.0  NaN  NaN   -0.0    0.0    0.0\n",
       "   0.0    0.0  NaN    0.0    0.0    0.0    0.0  NaN  NaN   -0.0    0.0    0.0\n",
       "   0.0    0.0  NaN    0.0    0.0    0.0    0.0  NaN  NaN   -0.0    0.0    0.0\n",
       "   0.0    0.0  NaN    0.0    0.0    0.0    0.0  NaN  NaN   -0.0    0.0    0.0\n",
       "   0.0    0.0  NaN    0.0    0.0    0.0    0.0  NaN  NaN   -0.0    0.0    0.0\n",
       "   0.0    0.0  NaN    0.0    0.0    0.0    0.0  NaN  NaN   -0.0    0.0    0.0\n",
       "   0.0    0.0  NaN    0.0    0.0    0.0    0.0  NaN  NaN   -0.0    0.0    0.0\n",
       "   0.0    0.0  NaN    0.0    0.0    0.0    0.0  NaN  NaN   -0.0    0.0    0.0\n",
       "   0.0    0.0  NaN    0.0    0.0    0.0    0.0  NaN  NaN   -0.0    0.0    0.0\n",
       "   0.0    0.0  NaN    0.0    0.0    0.0    0.0  NaN  NaN   -0.0    0.0    0.0\n",
       "   0.0    0.0  NaN    0.0    0.0    0.0    0.0  NaN  NaN   -0.0    0.0    0.0\n",
       "   ⋮                                ⋮                              ⋮         \n",
       "   0.0    0.0  NaN    0.0    0.0    0.0    0.0  NaN  NaN   -0.0    0.0    0.0\n",
       "   0.0    0.0  NaN    0.0    0.0    0.0    0.0  NaN  NaN   -0.0    0.0    0.0\n",
       "   0.0    0.0  NaN    0.0    0.0    0.0    0.0  NaN  NaN   -0.0    0.0    0.0\n",
       "   0.0    0.0  NaN    0.0    0.0    0.0    0.0  NaN  NaN   -0.0    0.0    0.0\n",
       "   0.0    0.0  NaN    0.0    0.0    0.0    0.0  NaN  NaN   -0.0    0.0    0.0\n",
       "   0.0    0.0  NaN    0.0    0.0    0.0    0.0  NaN  NaN   -0.0    0.0    0.0\n",
       "   0.0    0.0  NaN    0.0    0.0    0.0    0.0  NaN  NaN   -0.0    0.0    0.0\n",
       "   0.0    0.0  NaN    0.0    0.0    0.0    0.0  NaN  NaN   -0.0    0.0    0.0\n",
       "   0.0    0.0  NaN    0.0    0.0    0.0    0.0  NaN  NaN   -0.0    0.0    0.0\n",
       "   0.0    0.0  NaN    0.0    0.0    0.0    0.0  NaN  NaN   -0.0    0.0    0.0\n",
       " NaN    NaN    NaN  NaN    NaN    NaN    NaN    NaN  NaN  NaN    NaN    NaN  \n",
       "   0.0    0.0  NaN    0.0    0.0    0.0    0.0  NaN  NaN   -0.0    0.0    0.0\n",
       "\n",
       "[:, :, 18] =\n",
       " NaN    NaN    NaN  NaN    NaN    NaN    NaN    NaN  NaN  NaN    NaN    NaN  \n",
       "   0.0    0.0  NaN    0.0    0.0    0.0    0.0  NaN  NaN    0.0    0.0    0.0\n",
       "   0.0    0.0  NaN    0.0    0.0    0.0    0.0  NaN  NaN    0.0    0.0    0.0\n",
       "   0.0    0.0  NaN    0.0    0.0    0.0    0.0  NaN  NaN    0.0    0.0    0.0\n",
       "   0.0    0.0  NaN    0.0    0.0    0.0    0.0  NaN  NaN    0.0    0.0    0.0\n",
       "   0.0    0.0  NaN    0.0    0.0    0.0    0.0  NaN  NaN    0.0    0.0    0.0\n",
       "   0.0    0.0  NaN    0.0    0.0    0.0    0.0  NaN  NaN    0.0    0.0    0.0\n",
       "   0.0    0.0  NaN    0.0    0.0    0.0    0.0  NaN  NaN    0.0    0.0    0.0\n",
       "   0.0    0.0  NaN    0.0    0.0    0.0    0.0  NaN  NaN    0.0    0.0    0.0\n",
       "   0.0    0.0  NaN    0.0    0.0    0.0    0.0  NaN  NaN    0.0    0.0    0.0\n",
       "   0.0    0.0  NaN    0.0    0.0    0.0    0.0  NaN  NaN    0.0    0.0    0.0\n",
       "   0.0    0.0  NaN    0.0    0.0    0.0    0.0  NaN  NaN    0.0    0.0    0.0\n",
       "   0.0    0.0  NaN    0.0    0.0    0.0    0.0  NaN  NaN    0.0    0.0    0.0\n",
       "   ⋮                                ⋮                              ⋮         \n",
       "   0.0    0.0  NaN    0.0    0.0    0.0    0.0  NaN  NaN    0.0    0.0    0.0\n",
       "   0.0    0.0  NaN    0.0    0.0    0.0    0.0  NaN  NaN    0.0    0.0    0.0\n",
       "   0.0    0.0  NaN    0.0    0.0    0.0    0.0  NaN  NaN    0.0    0.0    0.0\n",
       "   0.0    0.0  NaN    0.0    0.0    0.0    0.0  NaN  NaN    0.0    0.0    0.0\n",
       "   0.0    0.0  NaN    0.0    0.0    0.0    0.0  NaN  NaN    0.0    0.0    0.0\n",
       "   0.0    0.0  NaN    0.0    0.0    0.0    0.0  NaN  NaN    0.0    0.0    0.0\n",
       "   0.0    0.0  NaN    0.0    0.0    0.0    0.0  NaN  NaN    0.0    0.0    0.0\n",
       "   0.0    0.0  NaN    0.0    0.0    0.0    0.0  NaN  NaN    0.0    0.0    0.0\n",
       "   0.0    0.0  NaN    0.0    0.0    0.0    0.0  NaN  NaN    0.0    0.0    0.0\n",
       "   0.0    0.0  NaN    0.0    0.0    0.0    0.0  NaN  NaN    0.0    0.0    0.0\n",
       " NaN    NaN    NaN  NaN    NaN    NaN    NaN    NaN  NaN  NaN    NaN    NaN  \n",
       "   0.0    0.0  NaN    0.0    0.0    0.0    0.0  NaN  NaN    0.0    0.0    0.0"
      ]
     },
     "execution_count": 8,
     "metadata": {},
     "output_type": "execute_result"
    }
   ],
   "source": [
    "result = Dict{Symbol, Tuple{Symbol, Float64}}()\n",
    "choice = :unkown\n",
    "for each_epoch in readin_marker_density\n",
    "    print(each_epoch)\n",
    "    value, pos = findmax_pos(template)\n",
    "    print(value,\" \",pos, \" \")\n",
    "    choicer = metadata.dyes[pos[2]].name\n",
    "    choicee = metadata.markers[pos[1]]\n",
    "    result[choicee] = (choicer, value)\n",
    "    println(choicee,\" \",choicer)\n",
    "    \n",
    "    initiation[:,pos[2],:] = NaN\n",
    "    initiation[pos[1],:,:] = NaN\n",
    "    \n",
    "    template_n = 0\n",
    "    for (each_laser, ports) in Device.ThermoFisher.lens\n",
    "        for (each_port, _) in ports\n",
    "            template_n += 1\n",
    "            applyer = interaction[each_laser][each_port][choicer]\n",
    "            initiation[:,:,template_n] .*= applyer'\n",
    "        end\n",
    "    end\n",
    "end\n",
    "initiation"
   ]
  },
  {
   "cell_type": "code",
   "execution_count": 9,
   "metadata": {},
   "outputs": [
    {
     "data": {
      "text/plain": [
       "Dict{Symbol,Tuple{Symbol,Float64}} with 3 entries:\n",
       "  :PDL_1 => (:PE_Cy7, 32635.8)\n",
       "  :Bcl_6 => (:Alexa647, 7.83284e5)\n",
       "  :IgD   => (:PE, 83.8442)"
      ]
     },
     "execution_count": 9,
     "metadata": {},
     "output_type": "execute_result"
    }
   ],
   "source": [
    "result"
   ]
  },
  {
   "cell_type": "code",
   "execution_count": null,
   "metadata": {},
   "outputs": [],
   "source": []
  }
 ],
 "metadata": {
  "kernelspec": {
   "display_name": "Julia 0.6.0",
   "language": "julia",
   "name": "julia-0.6"
  },
  "language_info": {
   "file_extension": ".jl",
   "mimetype": "application/julia",
   "name": "julia",
   "version": "0.6.0"
  }
 },
 "nbformat": 4,
 "nbformat_minor": 2
}
