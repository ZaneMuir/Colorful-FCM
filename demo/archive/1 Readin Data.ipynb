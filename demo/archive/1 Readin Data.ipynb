{
 "cells": [
  {
   "cell_type": "markdown",
   "metadata": {},
   "source": [
    "# Purpose\n",
    "This module is designed for reading in marker and dye data file.\n",
    "\n",
    "The data shall be sotred in \".csv\" format.\n",
    "\n",
    "## Dyes\n",
    "### dye_excitation.csv\n",
    "spectral data of excitation of each dye, from 300 to 999 nm (step 1 nm).\n",
    "\n",
    "### dye_emission.csv\n",
    "spectral data of emission of each dye, from 300 to 999 nm (step 1 nm).\n",
    "\n",
    "## Markers\n",
    "### antigens.csv\n",
    "first column as the symbol of each biomarker.\n",
    "\n",
    "second column as each correlated antigen, \n",
    "\n",
    "thrid column as the relative brightness. \\[level 1 to 5\\]"
   ]
  },
  {
   "cell_type": "code",
   "execution_count": 1,
   "metadata": {},
   "outputs": [],
   "source": [
    "using DataFrames\n",
    "using CSV\n",
    "using Query"
   ]
  },
  {
   "cell_type": "code",
   "execution_count": 12,
   "metadata": {},
   "outputs": [
    {
     "data": {
      "text/plain": [
       "Dict{Symbol,Array{Tuple{Int64,Int64},1}} with 4 entries:\n",
       "  :red    => Tuple{Int64,Int64}[(660, 20), (730, 45), (780, 60)]\n",
       "  :yellow => Tuple{Int64,Int64}[(586, 15), (610, 20), (670, 30), (710, 50), (78…\n",
       "  :violet => Tuple{Int64,Int64}[(450, 50), (510, 50), (605, 40), (660, 40)]\n",
       "  :blue   => Tuple{Int64,Int64}[(530, 30), (575, 26), (610, 20), (670, 30), (71…"
      ]
     },
     "execution_count": 12,
     "metadata": {},
     "output_type": "execute_result"
    }
   ],
   "source": [
    "readin_marker_density = [\n",
    "    (:B220,10000), \n",
    "    (:IgD,20,:biotin), \n",
    "    (:Bcl_6,4000),\n",
    "    (:GL_7,10000),\n",
    "    (:FAS,3000),\n",
    "]\n",
    "\n",
    "laser_names = [:red, :yellow, :blue, :violet]\n",
    "\n",
    "lasers = Dict(\n",
    "    :red => 640,\n",
    "    :yellow => 561,\n",
    "    :blue => 488,\n",
    "    :violet => 405\n",
    ")\n",
    "\n",
    "lens = Dict(\n",
    "    :red    => [(660, 20), (730, 45), (780, 60)],\n",
    "    :yellow => [(586, 15), (610, 20), (670, 30), (710, 50), (780, 60)],\n",
    "    :blue   => [(530, 30), (575, 26), (610, 20), (670, 30), (710, 50), (780, 60)],\n",
    "    :violet => [(450, 50), (510, 50), (605, 40), (660, 40)]\n",
    ")"
   ]
  },
  {
   "cell_type": "markdown",
   "metadata": {},
   "source": [
    "## import CSV"
   ]
  },
  {
   "cell_type": "code",
   "execution_count": 4,
   "metadata": {},
   "outputs": [
    {
     "data": {
      "text/html": [
       "<table class=\"data-frame\"><thead><tr><th></th><th>markers</th><th>dyes</th><th>brightness</th></tr><tr><th></th><th>String</th><th>String</th><th>Int64</th></tr></thead><tbody><tr><th>1</th><td>Bcl_6</td><td>Alexa647</td><td>4</td></tr><tr><th>2</th><td>CD11c</td><td>Alexa647</td><td>4</td></tr><tr><th>3</th><td>GL_7</td><td>Alexa647</td><td>4</td></tr><tr><th>4</th><td>CD8alpha</td><td>Alexa700</td><td>1</td></tr><tr><th>5</th><td>B220</td><td>APC</td><td>5</td></tr><tr><th>6</th><td>CD3</td><td>APC</td><td>5</td></tr></tbody></table>"
      ],
      "text/plain": [
       "6×3 DataFrame\n",
       "│ Row │ markers  │ dyes     │ brightness │\n",
       "│     │ \u001b[90mString\u001b[39m   │ \u001b[90mString\u001b[39m   │ \u001b[90mInt64\u001b[39m      │\n",
       "├─────┼──────────┼──────────┼────────────┤\n",
       "│ 1   │ Bcl_6    │ Alexa647 │ 4          │\n",
       "│ 2   │ CD11c    │ Alexa647 │ 4          │\n",
       "│ 3   │ GL_7     │ Alexa647 │ 4          │\n",
       "│ 4   │ CD8alpha │ Alexa700 │ 1          │\n",
       "│ 5   │ B220     │ APC      │ 5          │\n",
       "│ 6   │ CD3      │ APC      │ 5          │"
      ]
     },
     "execution_count": 4,
     "metadata": {},
     "output_type": "execute_result"
    }
   ],
   "source": [
    "excitation = CSV.read(\"../data/常见染料_发射曲线.csv\",\n",
    "    #types=[Int,Float64,Float64,Float64,Float64,Float64,Float64,Float64,Float64,Float64,Float64,Float64,Float64],\n",
    "    allowmissing=:none\n",
    ")\n",
    "\n",
    "emission = CSV.read(\"../data/常见染料_激发曲线.csv\",\n",
    "    #types=[Int,Float64,Float64,Float64,Float64,Float64,Float64,Float64,Float64,Float64,Float64,Float64,Float64],\n",
    "    allowmissing=:none\n",
    ")\n",
    "\n",
    "antigens = CSV.read(\"../data/使用抗体.csv\", allowmissing=:none)\n",
    "\n",
    "head(antigens)"
   ]
  },
  {
   "cell_type": "markdown",
   "metadata": {},
   "source": [
    "### extract names of dyes and markers"
   ]
  },
  {
   "cell_type": "code",
   "execution_count": 5,
   "metadata": {},
   "outputs": [
    {
     "data": {
      "text/plain": [
       "41-element Array{Symbol,1}:\n",
       " :Bcl_6     \n",
       " :CD11c     \n",
       " :GL_7      \n",
       " :CD8alpha  \n",
       " :B220      \n",
       " :CD3       \n",
       " :CD45_1    \n",
       " :CD45_2    \n",
       " :CD8       \n",
       " :CD80      \n",
       " :F4_80     \n",
       " :FAS       \n",
       " :IgG       \n",
       " ⋮          \n",
       " :TCR_beta  \n",
       " :Thy1_2    \n",
       " :AnnexinV  \n",
       " :CD138     \n",
       " :CD38      \n",
       " :CD86      \n",
       " :CXCR4     \n",
       " :TCRValpha2\n",
       " :Thy1_1    \n",
       " :PD_1      \n",
       " :PDL_1     \n",
       " :CD205     "
      ]
     },
     "execution_count": 5,
     "metadata": {},
     "output_type": "execute_result"
    }
   ],
   "source": [
    "dyes_em = [item for item in getfield(emission, :colindex).names if item != :Wavelength && item !=:wavelength] |> sort!\n",
    "dyes_ex = [item for item in getfield(excitation, :colindex).names if item != :Wavelength && item !=:wavelength] |> sort!\n",
    "\n",
    "if dyes_em == dyes_ex\n",
    "    dyes = dyes_ex\n",
    "else\n",
    "    println(\"names of dyes not match!\")\n",
    "    # TODO: using logging module\n",
    "end\n",
    "markers = [Symbol(item) for item in antigens[:markers]] |> unique"
   ]
  },
  {
   "cell_type": "markdown",
   "metadata": {},
   "source": [
    "## get dye brightness constant"
   ]
  },
  {
   "cell_type": "code",
   "execution_count": 58,
   "metadata": {},
   "outputs": [
    {
     "data": {
      "text/plain": [
       "Dict{Tuple{Symbol,Symbol},Union{Float64, Int64}} with 60 entries:\n",
       "  (:GL_7, :BV510)       => NaN\n",
       "  (:FAS, :BV510)        => NaN\n",
       "  (:IgD, :PE)           => 5\n",
       "  (:B220, :PE)          => 5\n",
       "  (:IgD, :APC)          => NaN\n",
       "  (:B220, :FITC)        => 2\n",
       "  (:GL_7, :FITC)        => NaN\n",
       "  (:IgD, :Alexa647)     => NaN\n",
       "  (:Bcl_6, :PE)         => NaN\n",
       "  (:FAS, :Alexa647)     => NaN\n",
       "  (:FAS, :PacificBlue)  => NaN\n",
       "  (:GL_7, :PE)          => 5\n",
       "  (:Bcl_6, :BV605)      => NaN\n",
       "  (:FAS, :APC)          => 5\n",
       "  (:Bcl_6, :Alexa700)   => NaN\n",
       "  (:Bcl_6, :FITC)       => NaN\n",
       "  (:IgD, :FITC)         => 2\n",
       "  (:FAS, :APC_Cy7)      => NaN\n",
       "  (:IgD, :PE_Cy7)       => NaN\n",
       "  (:B220, :Alexa700)    => NaN\n",
       "  (:Bcl_6, :PE_Dazzle)  => NaN\n",
       "  (:B220, :PacificBlue) => 2\n",
       "  (:FAS, :Alexa700)     => NaN\n",
       "  (:FAS, :BV605)        => NaN\n",
       "  (:Bcl_6, :BV510)      => NaN\n",
       "  ⋮                     => ⋮"
      ]
     },
     "execution_count": 58,
     "metadata": {},
     "output_type": "execute_result"
    }
   ],
   "source": [
    "function getDyeBrightness(antigen_list::DataFrame, markername::Symbol, dyename::Symbol)\n",
    "    B = @from item in antigen_list begin\n",
    "        @where item.markers == String(markername) && item.dyes == String(dyename)\n",
    "        @select item.brightness\n",
    "        @collect\n",
    "    end\n",
    "    \n",
    "    if length(B) == 1\n",
    "        return B[1]\n",
    "    elseif length(B) > 1\n",
    "        error(\"duplicated marker-dye pair for $(markername)-$(dyename)\")\n",
    "    else\n",
    "#         error(\"not found marker-dye pair for $(markername)-$(dyename)\")\n",
    "        return NaN\n",
    "    end\n",
    "    \n",
    "end\n",
    "\n",
    "dye_brightness = Dict{Tuple{Symbol, Symbol}, Union{Int, Float64}}()\n",
    "for j in dyes, i in readin_marker_density\n",
    "    dye_brightness[(i[1],j)] = getDyeBrightness(antigens, i[1], j)\n",
    "end\n",
    "dye_brightness"
   ]
  },
  {
   "cell_type": "code",
   "execution_count": 61,
   "metadata": {},
   "outputs": [
    {
     "data": {
      "text/plain": [
       "getExcitedRatio (generic function with 1 method)"
      ]
     },
     "execution_count": 61,
     "metadata": {},
     "output_type": "execute_result"
    }
   ],
   "source": [
    "function getExcitedRatio(dye_excitation::DataFrame, dyename::Symbol, lambda::Int64)\n",
    "    E = @from item in dye_excitation begin\n",
    "        @where item.Wavelength == lambda\n",
    "        @select item[dyename]\n",
    "        @collect\n",
    "    end\n",
    "    \n",
    "    if length(E) == 1\n",
    "        return E[1] |> log10\n",
    "    elseif length(E) > 1\n",
    "        error(\"duplicated excitation curve for dye: $(dyename)\")\n",
    "    else\n",
    "        error(\"not found excitation curve for dye: $(dyename)\")\n",
    "    end\n",
    "    \n",
    "end"
   ]
  },
  {
   "cell_type": "code",
   "execution_count": 66,
   "metadata": {},
   "outputs": [
    {
     "name": "stdout",
     "output_type": "stream",
     "text": [
      "  0.001999 seconds (2.44 k allocations: 167.031 KiB)\n"
     ]
    }
   ],
   "source": [
    "excitratio = Dict{Tuple{Symbol, Symbol}, Float64}()\n",
    "@time for laseridx in keys(lasers)\n",
    "    for eachdye in dyes\n",
    "        excitratio[(eachdye, laseridx)] = getExcitedRatio(excitation, eachdye, lasers[laseridx])\n",
    "    end\n",
    "end\n",
    "excitratio;"
   ]
  },
  {
   "cell_type": "code",
   "execution_count": 91,
   "metadata": {},
   "outputs": [
    {
     "data": {
      "text/plain": [
       "3.4758372670873787"
      ]
     },
     "execution_count": 91,
     "metadata": {},
     "output_type": "execute_result"
    }
   ],
   "source": [
    "function getEmitRatio(dye_emission::DataFrame, dyename::Symbol, loc::Int, scale::Int)\n",
    "    E = @from item in dye_emission begin\n",
    "        @where loc-scale < item.Wavelength < loc+scale\n",
    "        @select item[dyename]\n",
    "        @collect\n",
    "    end\n",
    "    \n",
    "    if length(E) >= 1\n",
    "        return sum(E) .|> x->x<0 ? 0 : x |> log10\n",
    "    else\n",
    "        error(\"not found emission curve for dye: $(dyename)\")\n",
    "    end\n",
    "    \n",
    "end\n",
    "getEmitRatio(emission, :APC, 660, 30)"
   ]
  },
  {
   "cell_type": "code",
   "execution_count": 98,
   "metadata": {},
   "outputs": [
    {
     "name": "stdout",
     "output_type": "stream",
     "text": [
      "  0.025483 seconds (46.99 k allocations: 3.191 MiB)\n"
     ]
    },
    {
     "data": {
      "text/plain": [
       "Dict{Tuple{Symbol,Symbol,Int64},Any} with 216 entries:\n",
       "  (:APC, :yellow, 610)         => 3.39589\n",
       "  (:Alexa700, :violet, 660)    => 3.69383\n",
       "  (:APC_Cy7, :blue, 610)       => 3.37608\n",
       "  (:PE_Dazzle, :violet, 510)   => 3.76187\n",
       "  (:Alexa647, :blue, 780)      => -Inf\n",
       "  (:BV605, :blue, 670)         => -Inf\n",
       "  (:PE_Cy7, :violet, 660)      => 2.85196\n",
       "  (:APC_Cy7, :blue, 670)       => 3.73486\n",
       "  (:Alexa700, :blue, 780)      => 2.76238\n",
       "  (:APC_Cy7, :blue, 530)       => 2.7142\n",
       "  (:Alexa700, :blue, 575)      => 2.73567\n",
       "  (:Alexa647, :violet, 450)    => -Inf\n",
       "  (:APC_Cy7, :yellow, 780)     => 2.32747\n",
       "  (:Alexa700, :violet, 510)    => 2.32833\n",
       "  (:PE_Dazzle, :yellow, 670)   => 1.54362\n",
       "  (:APC_Cy7, :yellow, 610)     => 3.37608\n",
       "  (:BV605, :violet, 450)       => 3.26643\n",
       "  (:FITC, :blue, 670)          => -Inf\n",
       "  (:BV605, :blue, 530)         => 2.59905\n",
       "  (:PE_Dazzle, :red, 730)      => 1.11651\n",
       "  (:Alexa647, :violet, 660)    => 3.58631\n",
       "  (:PE, :yellow, 710)          => -Inf\n",
       "  (:Percp_Cy5_5, :violet, 510) => 3.95046\n",
       "  (:FITC, :yellow, 586)        => -Inf\n",
       "  (:FITC, :yellow, 780)        => -Inf\n",
       "  ⋮                            => ⋮"
      ]
     },
     "execution_count": 98,
     "metadata": {},
     "output_type": "execute_result"
    }
   ],
   "source": [
    "emitratio = Dict{Tuple{Symbol, Symbol, Int}, Any}()\n",
    "@time for (laseridx, value) in lens\n",
    "    for (eachloc, eachscale) in value\n",
    "        for eachdye in dyes\n",
    "            emitratio[(eachdye, laseridx, eachloc)] = getEmitRatio(emission, eachdye, eachloc, eachscale)\n",
    "        end\n",
    "    end\n",
    "end\n",
    "emitratio"
   ]
  },
  {
   "cell_type": "code",
   "execution_count": null,
   "metadata": {},
   "outputs": [],
   "source": [
    "function getLensInteraction()\n",
    "    \n",
    "end"
   ]
  },
  {
   "cell_type": "markdown",
   "metadata": {},
   "source": [
    "---"
   ]
  },
  {
   "cell_type": "code",
   "execution_count": 1,
   "metadata": {},
   "outputs": [
    {
     "data": {
      "text/plain": [
       "generateLensInteraction (generic function with 1 method)"
      ]
     },
     "execution_count": 1,
     "metadata": {},
     "output_type": "execute_result"
    }
   ],
   "source": [
    "function getLensNumber(lens)\n",
    "    count = 0\n",
    "    for (name, port) in lens\n",
    "        count += length(port)\n",
    "    end\n",
    "    count\n",
    "end         \n",
    "\n",
    "function generateLensInteraction(emit_ratio, excite_ratio, dye_list, laser_list, lens, \n",
    "        dye_brightness)\n",
    "    \n",
    "    result = Dict()\n",
    "\n",
    "    for (each_laser, _) in laser_list\n",
    "        laser_array = Dict()\n",
    "        for (port, _) in lens[each_laser]\n",
    "            # println(each_laser, \" \", port)\n",
    "            port_array = Dict()\n",
    "            for dominator in dye_list\n",
    "                domi_value = excite_ratio[each_laser][dominator][1] / 100 * \n",
    "                             mean(emit_ratio[each_laser][port][dominator]) *\n",
    "                             dye_brightness[dominator]\n",
    "                dye_array = []\n",
    "                for liberator in dye_list\n",
    "                    if liberator != dominator\n",
    "                        libe_value = excite_ratio[each_laser][liberator][1] / 100 * \n",
    "                                     mean(emit_ratio[each_laser][port][liberator]) *\n",
    "                                     dye_brightness[liberator]\n",
    "                        push!(dye_array, (domi_value-libe_value)/(domi_value+libe_value+1))\n",
    "                    else\n",
    "                        push!(dye_array, -Inf) \n",
    "                    end\n",
    "                    \n",
    "                end\n",
    "                port_array[dominator] = dye_array\n",
    "            end\n",
    "            laser_array[port]=port_array\n",
    "        end\n",
    "        result[each_laser] = laser_array\n",
    "    end\n",
    "    result\n",
    "end"
   ]
  },
  {
   "cell_type": "markdown",
   "metadata": {},
   "source": [
    "$$ \\frac{\\alpha_{ex}}{100} \\cdot \\langle \\alpha_{em} \\rangle \\cdot \\alpha_L$$"
   ]
  },
  {
   "cell_type": "code",
   "execution_count": 33,
   "metadata": {},
   "outputs": [
    {
     "ename": "MethodError",
     "evalue": "MethodError: no method matching getEmitRatio(::Dict{Symbol,Array{Tuple{Int64,Int64},1}}, ::DataFrame, ::Array{Symbol,1})\nClosest candidates are:\n  getEmitRatio(::Any, ::Any) at In[30]:20",
     "output_type": "error",
     "traceback": [
      "MethodError: no method matching getEmitRatio(::Dict{Symbol,Array{Tuple{Int64,Int64},1}}, ::DataFrame, ::Array{Symbol,1})\nClosest candidates are:\n  getEmitRatio(::Any, ::Any) at In[30]:20",
      "",
      "Stacktrace:",
      " [1] top-level scope at In[33]:1"
     ]
    }
   ],
   "source": [
    "demo = generateLensInteraction(\n",
    "    getEmitRatio(lens, emission, dyes),\n",
    "    getExcitedRatio(lasers, excitation, dyes),\n",
    "    dyes, lasers, lens, dye_brightness\n",
    ")"
   ]
  },
  {
   "cell_type": "code",
   "execution_count": 9,
   "metadata": {},
   "outputs": [
    {
     "ename": "LoadError",
     "evalue": "\u001b[91mUndefVarError: demo not defined\u001b[39m",
     "output_type": "error",
     "traceback": [
      "\u001b[91mUndefVarError: demo not defined\u001b[39m",
      "",
      "Stacktrace:",
      " [1] \u001b[1minclude_string\u001b[22m\u001b[22m\u001b[1m(\u001b[22m\u001b[22m::String, ::String\u001b[1m)\u001b[22m\u001b[22m at \u001b[1m.\\loading.jl:522\u001b[22m\u001b[22m"
     ]
    }
   ],
   "source": [
    "demo[:red][780][:BV605]"
   ]
  },
  {
   "cell_type": "code",
   "execution_count": 39,
   "metadata": {
    "scrolled": false
   },
   "outputs": [
    {
     "name": "stderr",
     "output_type": "stream",
     "text": [
      "┌ Warning: `find(f::Function, A::AbstractVector)` is deprecated, use `findall(f, A)` instead.\n",
      "│   caller = getExcitedRatio(::Dict{Symbol,Array{Tuple{Int64,Int64},1}}, ::DataFrame) at In[30]:4\n",
      "└ @ Main ./In[30]:4\n"
     ]
    },
    {
     "ename": "BoundsError",
     "evalue": "BoundsError: attempt to access 0-element Array{Int64,1} at index [1]",
     "output_type": "error",
     "traceback": [
      "BoundsError: attempt to access 0-element Array{Int64,1} at index [1]",
      "",
      "Stacktrace:",
      " [1] getindex(::Array{Int64,1}, ::Int64) at ./array.jl:731",
      " [2] getExcitedRatio(::Dict{Symbol,Array{Tuple{Int64,Int64},1}}, ::DataFrame) at ./In[30]:4",
      " [3] top-level scope at In[39]:1"
     ]
    }
   ],
   "source": [
    "getEmitRatio(lens, emission)[:red][780]"
   ]
  },
  {
   "cell_type": "markdown",
   "metadata": {},
   "source": [
    "---"
   ]
  },
  {
   "cell_type": "code",
   "execution_count": 11,
   "metadata": {
    "scrolled": false
   },
   "outputs": [
    {
     "data": {
      "text/plain": [
       "41×12×18 Array{Float64,3}:\n",
       "[:, :, 1] =\n",
       " 0.0  0.0  1.0  0.0  0.0  0.0  0.0  0.0  0.0  0.0  0.0  0.0\n",
       " 0.0  0.0  1.0  0.0  1.0  0.0  1.0  1.0  1.0  0.0  0.0  0.0\n",
       " 0.0  0.0  1.0  0.0  0.0  0.0  0.0  1.0  0.0  0.0  0.0  0.0\n",
       " 0.0  1.0  0.0  1.0  0.0  0.0  0.0  0.0  0.0  0.0  0.0  0.0\n",
       " 1.0  1.0  0.0  0.0  0.0  1.0  1.0  1.0  1.0  1.0  1.0  1.0\n",
       " 1.0  0.0  0.0  0.0  0.0  0.0  1.0  1.0  1.0  0.0  1.0  0.0\n",
       " 1.0  0.0  0.0  0.0  0.0  0.0  1.0  0.0  1.0  0.0  1.0  1.0\n",
       " 1.0  0.0  0.0  0.0  0.0  0.0  1.0  0.0  1.0  0.0  1.0  1.0\n",
       " 1.0  0.0  0.0  0.0  0.0  1.0  1.0  1.0  1.0  0.0  1.0  1.0\n",
       " 1.0  0.0  0.0  0.0  0.0  0.0  0.0  0.0  0.0  0.0  0.0  0.0\n",
       " 1.0  0.0  0.0  0.0  0.0  0.0  0.0  0.0  0.0  0.0  0.0  0.0\n",
       " 1.0  0.0  0.0  0.0  0.0  0.0  0.0  0.0  0.0  0.0  0.0  0.0\n",
       " 1.0  0.0  0.0  0.0  0.0  0.0  1.0  0.0  0.0  0.0  0.0  0.0\n",
       " ⋮                        ⋮                        ⋮       \n",
       " 0.0  0.0  0.0  0.0  0.0  0.0  1.0  0.0  0.0  0.0  0.0  0.0\n",
       " 0.0  0.0  0.0  0.0  0.0  0.0  1.0  0.0  0.0  0.0  0.0  0.0\n",
       " 0.0  0.0  0.0  0.0  0.0  0.0  0.0  1.0  0.0  0.0  0.0  0.0\n",
       " 0.0  0.0  0.0  0.0  0.0  0.0  0.0  1.0  0.0  0.0  0.0  0.0\n",
       " 0.0  0.0  0.0  0.0  0.0  0.0  0.0  1.0  0.0  0.0  0.0  0.0\n",
       " 0.0  0.0  0.0  0.0  0.0  0.0  0.0  1.0  0.0  0.0  0.0  0.0\n",
       " 0.0  0.0  0.0  0.0  0.0  0.0  0.0  1.0  0.0  0.0  0.0  0.0\n",
       " 0.0  0.0  0.0  0.0  0.0  0.0  0.0  1.0  0.0  0.0  0.0  1.0\n",
       " 0.0  0.0  0.0  0.0  0.0  0.0  0.0  1.0  0.0  0.0  0.0  0.0\n",
       " 0.0  0.0  0.0  0.0  0.0  0.0  0.0  0.0  1.0  0.0  0.0  0.0\n",
       " 0.0  0.0  0.0  0.0  0.0  0.0  0.0  0.0  1.0  0.0  0.0  0.0\n",
       " 0.0  0.0  0.0  0.0  0.0  0.0  0.0  0.0  0.0  0.0  0.0  1.0\n",
       "\n",
       "[:, :, 2] =\n",
       " 0.0  0.0  1.0  0.0  0.0  0.0  0.0  0.0  0.0  0.0  0.0  0.0\n",
       " 0.0  0.0  1.0  0.0  1.0  0.0  1.0  1.0  1.0  0.0  0.0  0.0\n",
       " 0.0  0.0  1.0  0.0  0.0  0.0  0.0  1.0  0.0  0.0  0.0  0.0\n",
       " 0.0  1.0  0.0  1.0  0.0  0.0  0.0  0.0  0.0  0.0  0.0  0.0\n",
       " 1.0  1.0  0.0  0.0  0.0  1.0  1.0  1.0  1.0  1.0  1.0  1.0\n",
       " 1.0  0.0  0.0  0.0  0.0  0.0  1.0  1.0  1.0  0.0  1.0  0.0\n",
       " 1.0  0.0  0.0  0.0  0.0  0.0  1.0  0.0  1.0  0.0  1.0  1.0\n",
       " 1.0  0.0  0.0  0.0  0.0  0.0  1.0  0.0  1.0  0.0  1.0  1.0\n",
       " 1.0  0.0  0.0  0.0  0.0  1.0  1.0  1.0  1.0  0.0  1.0  1.0\n",
       " 1.0  0.0  0.0  0.0  0.0  0.0  0.0  0.0  0.0  0.0  0.0  0.0\n",
       " 1.0  0.0  0.0  0.0  0.0  0.0  0.0  0.0  0.0  0.0  0.0  0.0\n",
       " 1.0  0.0  0.0  0.0  0.0  0.0  0.0  0.0  0.0  0.0  0.0  0.0\n",
       " 1.0  0.0  0.0  0.0  0.0  0.0  1.0  0.0  0.0  0.0  0.0  0.0\n",
       " ⋮                        ⋮                        ⋮       \n",
       " 0.0  0.0  0.0  0.0  0.0  0.0  1.0  0.0  0.0  0.0  0.0  0.0\n",
       " 0.0  0.0  0.0  0.0  0.0  0.0  1.0  0.0  0.0  0.0  0.0  0.0\n",
       " 0.0  0.0  0.0  0.0  0.0  0.0  0.0  1.0  0.0  0.0  0.0  0.0\n",
       " 0.0  0.0  0.0  0.0  0.0  0.0  0.0  1.0  0.0  0.0  0.0  0.0\n",
       " 0.0  0.0  0.0  0.0  0.0  0.0  0.0  1.0  0.0  0.0  0.0  0.0\n",
       " 0.0  0.0  0.0  0.0  0.0  0.0  0.0  1.0  0.0  0.0  0.0  0.0\n",
       " 0.0  0.0  0.0  0.0  0.0  0.0  0.0  1.0  0.0  0.0  0.0  0.0\n",
       " 0.0  0.0  0.0  0.0  0.0  0.0  0.0  1.0  0.0  0.0  0.0  1.0\n",
       " 0.0  0.0  0.0  0.0  0.0  0.0  0.0  1.0  0.0  0.0  0.0  0.0\n",
       " 0.0  0.0  0.0  0.0  0.0  0.0  0.0  0.0  1.0  0.0  0.0  0.0\n",
       " 0.0  0.0  0.0  0.0  0.0  0.0  0.0  0.0  1.0  0.0  0.0  0.0\n",
       " 0.0  0.0  0.0  0.0  0.0  0.0  0.0  0.0  0.0  0.0  0.0  1.0\n",
       "\n",
       "[:, :, 3] =\n",
       " 0.0  0.0  1.0  0.0  0.0  0.0  0.0  0.0  0.0  0.0  0.0  0.0\n",
       " 0.0  0.0  1.0  0.0  1.0  0.0  1.0  1.0  1.0  0.0  0.0  0.0\n",
       " 0.0  0.0  1.0  0.0  0.0  0.0  0.0  1.0  0.0  0.0  0.0  0.0\n",
       " 0.0  1.0  0.0  1.0  0.0  0.0  0.0  0.0  0.0  0.0  0.0  0.0\n",
       " 1.0  1.0  0.0  0.0  0.0  1.0  1.0  1.0  1.0  1.0  1.0  1.0\n",
       " 1.0  0.0  0.0  0.0  0.0  0.0  1.0  1.0  1.0  0.0  1.0  0.0\n",
       " 1.0  0.0  0.0  0.0  0.0  0.0  1.0  0.0  1.0  0.0  1.0  1.0\n",
       " 1.0  0.0  0.0  0.0  0.0  0.0  1.0  0.0  1.0  0.0  1.0  1.0\n",
       " 1.0  0.0  0.0  0.0  0.0  1.0  1.0  1.0  1.0  0.0  1.0  1.0\n",
       " 1.0  0.0  0.0  0.0  0.0  0.0  0.0  0.0  0.0  0.0  0.0  0.0\n",
       " 1.0  0.0  0.0  0.0  0.0  0.0  0.0  0.0  0.0  0.0  0.0  0.0\n",
       " 1.0  0.0  0.0  0.0  0.0  0.0  0.0  0.0  0.0  0.0  0.0  0.0\n",
       " 1.0  0.0  0.0  0.0  0.0  0.0  1.0  0.0  0.0  0.0  0.0  0.0\n",
       " ⋮                        ⋮                        ⋮       \n",
       " 0.0  0.0  0.0  0.0  0.0  0.0  1.0  0.0  0.0  0.0  0.0  0.0\n",
       " 0.0  0.0  0.0  0.0  0.0  0.0  1.0  0.0  0.0  0.0  0.0  0.0\n",
       " 0.0  0.0  0.0  0.0  0.0  0.0  0.0  1.0  0.0  0.0  0.0  0.0\n",
       " 0.0  0.0  0.0  0.0  0.0  0.0  0.0  1.0  0.0  0.0  0.0  0.0\n",
       " 0.0  0.0  0.0  0.0  0.0  0.0  0.0  1.0  0.0  0.0  0.0  0.0\n",
       " 0.0  0.0  0.0  0.0  0.0  0.0  0.0  1.0  0.0  0.0  0.0  0.0\n",
       " 0.0  0.0  0.0  0.0  0.0  0.0  0.0  1.0  0.0  0.0  0.0  0.0\n",
       " 0.0  0.0  0.0  0.0  0.0  0.0  0.0  1.0  0.0  0.0  0.0  1.0\n",
       " 0.0  0.0  0.0  0.0  0.0  0.0  0.0  1.0  0.0  0.0  0.0  0.0\n",
       " 0.0  0.0  0.0  0.0  0.0  0.0  0.0  0.0  1.0  0.0  0.0  0.0\n",
       " 0.0  0.0  0.0  0.0  0.0  0.0  0.0  0.0  1.0  0.0  0.0  0.0\n",
       " 0.0  0.0  0.0  0.0  0.0  0.0  0.0  0.0  0.0  0.0  0.0  1.0\n",
       "\n",
       "...\n",
       "\n",
       "[:, :, 16] =\n",
       " 0.0  0.0  1.0  0.0  0.0  0.0  0.0  0.0  0.0  0.0  0.0  0.0\n",
       " 0.0  0.0  1.0  0.0  1.0  0.0  1.0  1.0  1.0  0.0  0.0  0.0\n",
       " 0.0  0.0  1.0  0.0  0.0  0.0  0.0  1.0  0.0  0.0  0.0  0.0\n",
       " 0.0  1.0  0.0  1.0  0.0  0.0  0.0  0.0  0.0  0.0  0.0  0.0\n",
       " 1.0  1.0  0.0  0.0  0.0  1.0  1.0  1.0  1.0  1.0  1.0  1.0\n",
       " 1.0  0.0  0.0  0.0  0.0  0.0  1.0  1.0  1.0  0.0  1.0  0.0\n",
       " 1.0  0.0  0.0  0.0  0.0  0.0  1.0  0.0  1.0  0.0  1.0  1.0\n",
       " 1.0  0.0  0.0  0.0  0.0  0.0  1.0  0.0  1.0  0.0  1.0  1.0\n",
       " 1.0  0.0  0.0  0.0  0.0  1.0  1.0  1.0  1.0  0.0  1.0  1.0\n",
       " 1.0  0.0  0.0  0.0  0.0  0.0  0.0  0.0  0.0  0.0  0.0  0.0\n",
       " 1.0  0.0  0.0  0.0  0.0  0.0  0.0  0.0  0.0  0.0  0.0  0.0\n",
       " 1.0  0.0  0.0  0.0  0.0  0.0  0.0  0.0  0.0  0.0  0.0  0.0\n",
       " 1.0  0.0  0.0  0.0  0.0  0.0  1.0  0.0  0.0  0.0  0.0  0.0\n",
       " ⋮                        ⋮                        ⋮       \n",
       " 0.0  0.0  0.0  0.0  0.0  0.0  1.0  0.0  0.0  0.0  0.0  0.0\n",
       " 0.0  0.0  0.0  0.0  0.0  0.0  1.0  0.0  0.0  0.0  0.0  0.0\n",
       " 0.0  0.0  0.0  0.0  0.0  0.0  0.0  1.0  0.0  0.0  0.0  0.0\n",
       " 0.0  0.0  0.0  0.0  0.0  0.0  0.0  1.0  0.0  0.0  0.0  0.0\n",
       " 0.0  0.0  0.0  0.0  0.0  0.0  0.0  1.0  0.0  0.0  0.0  0.0\n",
       " 0.0  0.0  0.0  0.0  0.0  0.0  0.0  1.0  0.0  0.0  0.0  0.0\n",
       " 0.0  0.0  0.0  0.0  0.0  0.0  0.0  1.0  0.0  0.0  0.0  0.0\n",
       " 0.0  0.0  0.0  0.0  0.0  0.0  0.0  1.0  0.0  0.0  0.0  1.0\n",
       " 0.0  0.0  0.0  0.0  0.0  0.0  0.0  1.0  0.0  0.0  0.0  0.0\n",
       " 0.0  0.0  0.0  0.0  0.0  0.0  0.0  0.0  1.0  0.0  0.0  0.0\n",
       " 0.0  0.0  0.0  0.0  0.0  0.0  0.0  0.0  1.0  0.0  0.0  0.0\n",
       " 0.0  0.0  0.0  0.0  0.0  0.0  0.0  0.0  0.0  0.0  0.0  1.0\n",
       "\n",
       "[:, :, 17] =\n",
       " 0.0  0.0  1.0  0.0  0.0  0.0  0.0  0.0  0.0  0.0  0.0  0.0\n",
       " 0.0  0.0  1.0  0.0  1.0  0.0  1.0  1.0  1.0  0.0  0.0  0.0\n",
       " 0.0  0.0  1.0  0.0  0.0  0.0  0.0  1.0  0.0  0.0  0.0  0.0\n",
       " 0.0  1.0  0.0  1.0  0.0  0.0  0.0  0.0  0.0  0.0  0.0  0.0\n",
       " 1.0  1.0  0.0  0.0  0.0  1.0  1.0  1.0  1.0  1.0  1.0  1.0\n",
       " 1.0  0.0  0.0  0.0  0.0  0.0  1.0  1.0  1.0  0.0  1.0  0.0\n",
       " 1.0  0.0  0.0  0.0  0.0  0.0  1.0  0.0  1.0  0.0  1.0  1.0\n",
       " 1.0  0.0  0.0  0.0  0.0  0.0  1.0  0.0  1.0  0.0  1.0  1.0\n",
       " 1.0  0.0  0.0  0.0  0.0  1.0  1.0  1.0  1.0  0.0  1.0  1.0\n",
       " 1.0  0.0  0.0  0.0  0.0  0.0  0.0  0.0  0.0  0.0  0.0  0.0\n",
       " 1.0  0.0  0.0  0.0  0.0  0.0  0.0  0.0  0.0  0.0  0.0  0.0\n",
       " 1.0  0.0  0.0  0.0  0.0  0.0  0.0  0.0  0.0  0.0  0.0  0.0\n",
       " 1.0  0.0  0.0  0.0  0.0  0.0  1.0  0.0  0.0  0.0  0.0  0.0\n",
       " ⋮                        ⋮                        ⋮       \n",
       " 0.0  0.0  0.0  0.0  0.0  0.0  1.0  0.0  0.0  0.0  0.0  0.0\n",
       " 0.0  0.0  0.0  0.0  0.0  0.0  1.0  0.0  0.0  0.0  0.0  0.0\n",
       " 0.0  0.0  0.0  0.0  0.0  0.0  0.0  1.0  0.0  0.0  0.0  0.0\n",
       " 0.0  0.0  0.0  0.0  0.0  0.0  0.0  1.0  0.0  0.0  0.0  0.0\n",
       " 0.0  0.0  0.0  0.0  0.0  0.0  0.0  1.0  0.0  0.0  0.0  0.0\n",
       " 0.0  0.0  0.0  0.0  0.0  0.0  0.0  1.0  0.0  0.0  0.0  0.0\n",
       " 0.0  0.0  0.0  0.0  0.0  0.0  0.0  1.0  0.0  0.0  0.0  0.0\n",
       " 0.0  0.0  0.0  0.0  0.0  0.0  0.0  1.0  0.0  0.0  0.0  1.0\n",
       " 0.0  0.0  0.0  0.0  0.0  0.0  0.0  1.0  0.0  0.0  0.0  0.0\n",
       " 0.0  0.0  0.0  0.0  0.0  0.0  0.0  0.0  1.0  0.0  0.0  0.0\n",
       " 0.0  0.0  0.0  0.0  0.0  0.0  0.0  0.0  1.0  0.0  0.0  0.0\n",
       " 0.0  0.0  0.0  0.0  0.0  0.0  0.0  0.0  0.0  0.0  0.0  1.0\n",
       "\n",
       "[:, :, 18] =\n",
       " 0.0  0.0  1.0  0.0  0.0  0.0  0.0  0.0  0.0  0.0  0.0  0.0\n",
       " 0.0  0.0  1.0  0.0  1.0  0.0  1.0  1.0  1.0  0.0  0.0  0.0\n",
       " 0.0  0.0  1.0  0.0  0.0  0.0  0.0  1.0  0.0  0.0  0.0  0.0\n",
       " 0.0  1.0  0.0  1.0  0.0  0.0  0.0  0.0  0.0  0.0  0.0  0.0\n",
       " 1.0  1.0  0.0  0.0  0.0  1.0  1.0  1.0  1.0  1.0  1.0  1.0\n",
       " 1.0  0.0  0.0  0.0  0.0  0.0  1.0  1.0  1.0  0.0  1.0  0.0\n",
       " 1.0  0.0  0.0  0.0  0.0  0.0  1.0  0.0  1.0  0.0  1.0  1.0\n",
       " 1.0  0.0  0.0  0.0  0.0  0.0  1.0  0.0  1.0  0.0  1.0  1.0\n",
       " 1.0  0.0  0.0  0.0  0.0  1.0  1.0  1.0  1.0  0.0  1.0  1.0\n",
       " 1.0  0.0  0.0  0.0  0.0  0.0  0.0  0.0  0.0  0.0  0.0  0.0\n",
       " 1.0  0.0  0.0  0.0  0.0  0.0  0.0  0.0  0.0  0.0  0.0  0.0\n",
       " 1.0  0.0  0.0  0.0  0.0  0.0  0.0  0.0  0.0  0.0  0.0  0.0\n",
       " 1.0  0.0  0.0  0.0  0.0  0.0  1.0  0.0  0.0  0.0  0.0  0.0\n",
       " ⋮                        ⋮                        ⋮       \n",
       " 0.0  0.0  0.0  0.0  0.0  0.0  1.0  0.0  0.0  0.0  0.0  0.0\n",
       " 0.0  0.0  0.0  0.0  0.0  0.0  1.0  0.0  0.0  0.0  0.0  0.0\n",
       " 0.0  0.0  0.0  0.0  0.0  0.0  0.0  1.0  0.0  0.0  0.0  0.0\n",
       " 0.0  0.0  0.0  0.0  0.0  0.0  0.0  1.0  0.0  0.0  0.0  0.0\n",
       " 0.0  0.0  0.0  0.0  0.0  0.0  0.0  1.0  0.0  0.0  0.0  0.0\n",
       " 0.0  0.0  0.0  0.0  0.0  0.0  0.0  1.0  0.0  0.0  0.0  0.0\n",
       " 0.0  0.0  0.0  0.0  0.0  0.0  0.0  1.0  0.0  0.0  0.0  0.0\n",
       " 0.0  0.0  0.0  0.0  0.0  0.0  0.0  1.0  0.0  0.0  0.0  1.0\n",
       " 0.0  0.0  0.0  0.0  0.0  0.0  0.0  1.0  0.0  0.0  0.0  0.0\n",
       " 0.0  0.0  0.0  0.0  0.0  0.0  0.0  0.0  1.0  0.0  0.0  0.0\n",
       " 0.0  0.0  0.0  0.0  0.0  0.0  0.0  0.0  1.0  0.0  0.0  0.0\n",
       " 0.0  0.0  0.0  0.0  0.0  0.0  0.0  0.0  0.0  0.0  0.0  1.0"
      ]
     },
     "execution_count": 11,
     "metadata": {},
     "output_type": "execute_result"
    }
   ],
   "source": [
    "function getTemplate(antigens, marker_list, dye_list, level=1)\n",
    "    template = zeros(length(marker_list), length(dye_list))\n",
    "    for i=1:length(antigens[:,1])\n",
    "        a1 = indexin([antigens[i,:markers] |> Symbol], marker_list)[1]\n",
    "        a2 = indexin([antigens[i,:dyes] |> Symbol], dye_list)[1]\n",
    "\n",
    "        if a2 == 0 \n",
    "            println([antigens[i,:dyes] |> Symbol])\n",
    "        end\n",
    "\n",
    "        template[a1, a2] = 1\n",
    "    end\n",
    "    template\n",
    "    repeat(template, outer=(1,1,level))\n",
    "end\n",
    "getTemplate(antigens, markers, dyes, getLensNumber(lens))"
   ]
  }
 ],
 "metadata": {
  "kernelspec": {
   "display_name": "Julia 0.7.0",
   "language": "julia",
   "name": "julia-0.7"
  },
  "language_info": {
   "file_extension": ".jl",
   "mimetype": "application/julia",
   "name": "julia",
   "version": "0.7.0"
  }
 },
 "nbformat": 4,
 "nbformat_minor": 2
}
