{
 "cells": [
  {
   "cell_type": "code",
   "execution_count": 1,
   "metadata": {},
   "outputs": [
    {
     "name": "stderr",
     "output_type": "stream",
     "text": [
      "WARNING: Method definition ==(Base.Nullable{S}, Base.Nullable{T}) in module Base at nullable.jl:238 overwritten in module NullableArrays at /Users/zane/.julia/v0.6/NullableArrays/src/operators.jl:99.\n"
     ]
    }
   ],
   "source": [
    "using DataFrames\n",
    "using CSV"
   ]
  },
  {
   "cell_type": "markdown",
   "metadata": {},
   "source": [
    "# Purpose\n",
    "This module is designed for reading in marker and dye data file.\n",
    "\n",
    "The data shall be sotred in \".csv\" format.\n",
    "\n",
    "## Dyes\n",
    "### dye_excitation.csv\n",
    "spectral data of excitation of each dye, from 300 to 999 nm (step 1 nm).\n",
    "\n",
    "### dye_emission.csv\n",
    "spectral data of emission of each dye, from 300 to 999 nm (step 1 nm).\n",
    "\n",
    "## Markers\n",
    "### antigens.csv\n",
    "first "
   ]
  }
 ],
 "metadata": {
  "kernelspec": {
   "display_name": "Julia 0.6.0",
   "language": "julia",
   "name": "julia-0.6"
  },
  "language_info": {
   "file_extension": ".jl",
   "mimetype": "application/julia",
   "name": "julia",
   "version": "0.6.0"
  }
 },
 "nbformat": 4,
 "nbformat_minor": 2
}
