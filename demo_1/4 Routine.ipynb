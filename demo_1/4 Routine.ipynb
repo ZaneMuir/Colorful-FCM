{
 "cells": [
  {
   "cell_type": "code",
   "execution_count": 11,
   "metadata": {},
   "outputs": [
    {
     "name": "stderr",
     "output_type": "stream",
     "text": [
      "WARNING: replacing module Device.\n",
      "WARNING: replacing module ReadIn.\n",
      "WARNING: replacing module Evaluation.\n"
     ]
    },
    {
     "data": {
      "text/plain": [
       "Main.Evaluation"
      ]
     },
     "execution_count": 11,
     "metadata": {},
     "output_type": "execute_result"
    }
   ],
   "source": [
    "include(\"../src/Device.jl\")\n",
    "include(\"../src/ReadIn.jl\")\n",
    "include(\"../src/Evaluation.jl\")"
   ]
  },
  {
   "cell_type": "code",
   "execution_count": 13,
   "metadata": {
    "scrolled": false
   },
   "outputs": [
    {
     "ename": "MethodError",
     "evalue": "MethodError: Cannot `convert` an object of type Missing to an object of type Float64\nClosest candidates are:\n  convert(::Type{T<:Number}, !Matched::T<:Number) where T<:Number at number.jl:6\n  convert(::Type{T<:Number}, !Matched::Number) where T<:Number at number.jl:7\n  convert(::Type{T<:Number}, !Matched::Base.TwicePrecision) where T<:Number at twiceprecision.jl:250\n  ...",
     "output_type": "error",
     "traceback": [
      "MethodError: Cannot `convert` an object of type Missing to an object of type Float64\nClosest candidates are:\n  convert(::Type{T<:Number}, !Matched::T<:Number) where T<:Number at number.jl:6\n  convert(::Type{T<:Number}, !Matched::Number) where T<:Number at number.jl:7\n  convert(::Type{T<:Number}, !Matched::Base.TwicePrecision) where T<:Number at twiceprecision.jl:250\n  ...",
      "",
      "Stacktrace:",
      " [1] setindex!(::Array{Float64,1}, ::Missing, ::Int64) at ./array.jl:769",
      " [2] copyto!(::IndexLinear, ::Array{Float64,1}, ::IndexLinear, ::Array{Any,1}) at ./abstractarray.jl:739",
      " [3] copyto! at ./abstractarray.jl:731 [inlined]",
      " [4] Type at ./array.jl:497 [inlined]",
      " [5] convert at ./array.jl:489 [inlined]",
      " [6] setindex!(::Dict{Symbol,Array{Float64,1}}, ::Array{Any,1}, ::Symbol) at ./dict.jl:381",
      " [7] Dict{Symbol,Array{Float64,1}}(::Dict{Any,Any}) at ./dict.jl:104",
      " [8] convert at ./abstractdict.jl:516 [inlined]",
      " [9] setindex!(::Dict{Int64,Dict{Symbol,Array{Float64,1}}}, ::Dict{Any,Any}, ::Int64) at ./dict.jl:381",
      " [10] Dict{Int64,Dict{Symbol,Array{Float64,1}}}(::Dict{Any,Any}) at ./dict.jl:104",
      " [11] convert at ./abstractdict.jl:516 [inlined]",
      " [12] setindex!(::Dict{Symbol,Dict{Int64,Dict{Symbol,Array{Float64,1}}}}, ::Dict{Any,Any}, ::Symbol) at ./dict.jl:381",
      " [13] generate_dyes_interaction(::Dict{Any,Any}, ::Dict{Any,Any}, ::Array{Main.ReadIn.Dye,1}, ::Main.ReadIn.Device.FCMDevice) at /Users/yizhan/Documents/github/colorfcm/Colorful-FCM/src/ReadIn.jl:134",
      " [14] #get_normalized_data#22(::Nothing, ::String, ::Function, ::String, ::String, ::String, ::Main.ReadIn.Device.FCMDevice) at /Users/yizhan/Documents/github/colorfcm/Colorful-FCM/src/ReadIn.jl:214",
      " [15] get_normalized_data(::String, ::String, ::String, ::Main.ReadIn.Device.FCMDevice) at /Users/yizhan/Documents/github/colorfcm/Colorful-FCM/src/ReadIn.jl:206",
      " [16] top-level scope at util.jl:156",
      " [17] top-level scope at In[13]:4"
     ]
    }
   ],
   "source": [
    "excitation_csv = \"../data/常见染料_发射曲线.csv\"\n",
    "emission_csv   = \"../data/常见染料_激发曲线.csv\"\n",
    "antigens_csv   = \"../data/使用抗体.csv\"\n",
    "\n",
    "@time (meta, template, interaction) = ReadIn.get_normalized_data(excitation_csv, emission_csv, antigens_csv, \n",
    "    ReadIn.Device.ThermoFisher);"
   ]
  },
  {
   "cell_type": "code",
   "execution_count": 39,
   "metadata": {},
   "outputs": [
    {
     "data": {
      "text/plain": [
       "Dict{Symbol,Tuple{Symbol,Float64}} with 5 entries:\n",
       "  :B220  => (:PE_Dazzle, 1881.85)\n",
       "  :FAS   => (:APC, 4.31756e6)\n",
       "  :Bcl_6 => (:Alexa647, 4.36364e5)\n",
       "  :GL_7  => (:PE, 454.842)\n",
       "  :IgD   => (:FITC, 8.70583)"
      ]
     },
     "execution_count": 39,
     "metadata": {},
     "output_type": "execute_result"
    }
   ],
   "source": [
    "readin_marker_density = [\n",
    "    (:B220,10000), \n",
    "    (:IgD,20,:biotin), \n",
    "    (:Bcl_6,4000),\n",
    "    (:GL_7,10000),\n",
    "    (:FAS,3000),\n",
    "]\n",
    "Evaluation.get_result(meta, template, interaction, Device.ThermoFisher, readin_marker_density)"
   ]
  },
  {
   "cell_type": "code",
   "execution_count": null,
   "metadata": {},
   "outputs": [],
   "source": []
  },
  {
   "cell_type": "code",
   "execution_count": null,
   "metadata": {},
   "outputs": [],
   "source": []
  }
 ],
 "metadata": {
  "kernelspec": {
   "display_name": "Julia 0.7.0",
   "language": "julia",
   "name": "julia-0.7"
  },
  "language_info": {
   "file_extension": ".jl",
   "mimetype": "application/julia",
   "name": "julia",
   "version": "0.7.0"
  }
 },
 "nbformat": 4,
 "nbformat_minor": 2
}
