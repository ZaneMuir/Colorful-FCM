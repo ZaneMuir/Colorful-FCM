{
 "cells": [
  {
   "cell_type": "code",
   "execution_count": 2,
   "metadata": {},
   "outputs": [],
   "source": [
    "using DataFrames\n",
    "using CSV"
   ]
  },
  {
   "cell_type": "markdown",
   "metadata": {},
   "source": [
    "# Purpose\n",
    "This module is designed for reading in marker and dye data file.\n",
    "\n",
    "The data shall be sotred in \".csv\" format.\n",
    "\n",
    "## Dyes\n",
    "### dye_excitation.csv\n",
    "spectral data of excitation of each dye, from 300 to 999 nm (step 1 nm).\n",
    "\n",
    "### dye_emission.csv\n",
    "spectral data of emission of each dye, from 300 to 999 nm (step 1 nm).\n",
    "\n",
    "## Markers\n",
    "### antigens.csv\n",
    "first column as the symbol of each biomarker.\n",
    "\n",
    "second column as each correlated antigen, \n",
    "\n",
    "thrid column as the relative brightness. \\[level 1 to 5\\]"
   ]
  },
  {
   "cell_type": "code",
   "execution_count": 3,
   "metadata": {},
   "outputs": [
    {
     "data": {
      "text/plain": [
       "Dict{Symbol,Array{Tuple{Int64,Int64},1}} with 4 entries:\n",
       "  :red    => Tuple{Int64,Int64}[(660, 20), (730, 45), (780, 60)]\n",
       "  :yellow => Tuple{Int64,Int64}[(586, 15), (610, 20), (670, 30), (710, 50), (78…\n",
       "  :violet => Tuple{Int64,Int64}[(450, 50), (510, 50), (605, 40), (660, 40)]\n",
       "  :blue   => Tuple{Int64,Int64}[(530, 30), (575, 26), (610, 20), (670, 30), (71…"
      ]
     },
     "execution_count": 3,
     "metadata": {},
     "output_type": "execute_result"
    }
   ],
   "source": [
    "laser_names = [:red, :yellow, :blue, :violet]\n",
    "\n",
    "lasers = Dict(\n",
    "    :red => 640,\n",
    "    :yellow => 561,\n",
    "    :blue => 488,\n",
    "    :violet => 405\n",
    ")\n",
    "\n",
    "lens = Dict(\n",
    "    :red    => [(660, 20), (730, 45), (780, 60)],\n",
    "    :yellow => [(586, 15), (610, 20), (670, 30), (710, 50), (780, 60)],\n",
    "    :blue   => [(530, 30), (575, 26), (610, 20), (670, 30), (710, 50), (780, 60)],\n",
    "    :violet => [(450, 50), (510, 50), (605, 40), (660, 40)]\n",
    ")"
   ]
  },
  {
   "cell_type": "code",
   "execution_count": 4,
   "metadata": {},
   "outputs": [
    {
     "data": {
      "text/plain": [
       "Dict{Symbol,Int64} with 4 entries:\n",
       "  :red    => 640\n",
       "  :yellow => 561\n",
       "  :violet => 405\n",
       "  :blue   => 488"
      ]
     },
     "execution_count": 4,
     "metadata": {},
     "output_type": "execute_result"
    }
   ],
   "source": [
    "lasers"
   ]
  },
  {
   "cell_type": "code",
   "execution_count": 6,
   "metadata": {},
   "outputs": [
    {
     "data": {
      "text/html": [
       "<table class=\"data-frame\"><thead><tr><th></th><th>markers</th><th>dyes</th><th>brightness</th></tr></thead><tbody><tr><th>1</th><td>Bcl_6</td><td>Alexa647</td><td>4</td></tr><tr><th>2</th><td>CD11c</td><td>Alexa647</td><td>4</td></tr><tr><th>3</th><td>GL_7</td><td>Alexa647</td><td>4</td></tr><tr><th>4</th><td>CD8alpha</td><td>Alexa700</td><td>1</td></tr><tr><th>5</th><td>B220</td><td>APC</td><td>5</td></tr><tr><th>6</th><td>CD3</td><td>APC</td><td>5</td></tr></tbody></table>"
      ],
      "text/plain": [
       "6×3 DataFrames.DataFrame\n",
       "│ Row │ markers  │ dyes     │ brightness │\n",
       "├─────┼──────────┼──────────┼────────────┤\n",
       "│ 1   │ Bcl_6    │ Alexa647 │ 4          │\n",
       "│ 2   │ CD11c    │ Alexa647 │ 4          │\n",
       "│ 3   │ GL_7     │ Alexa647 │ 4          │\n",
       "│ 4   │ CD8alpha │ Alexa700 │ 1          │\n",
       "│ 5   │ B220     │ APC      │ 5          │\n",
       "│ 6   │ CD3      │ APC      │ 5          │"
      ]
     },
     "execution_count": 6,
     "metadata": {},
     "output_type": "execute_result"
    }
   ],
   "source": [
    "excitation = CSV.read(\"../data/常见染料_发射曲线.csv\",\n",
    "    #types=[Int,Float64,Float64,Float64,Float64,Float64,Float64,Float64,Float64,Float64,Float64,Float64,Float64],\n",
    "    allowmissing=:none\n",
    ")\n",
    "\n",
    "emission = CSV.read(\"../data/常见染料_激发曲线.csv\",\n",
    "    #types=[Int,Float64,Float64,Float64,Float64,Float64,Float64,Float64,Float64,Float64,Float64,Float64,Float64],\n",
    "    allowmissing=:none\n",
    ")\n",
    "\n",
    "antigens = CSV.read(\"../data/使用抗体.csv\",allowmissing=:none)\n",
    "\n",
    "head(antigens)"
   ]
  },
  {
   "cell_type": "code",
   "execution_count": 7,
   "metadata": {},
   "outputs": [
    {
     "data": {
      "text/plain": [
       "41-element Array{Symbol,1}:\n",
       " :Bcl_6     \n",
       " :CD11c     \n",
       " :GL_7      \n",
       " :CD8alpha  \n",
       " :B220      \n",
       " :CD3       \n",
       " :CD45_1    \n",
       " :CD45_2    \n",
       " :CD8       \n",
       " :CD80      \n",
       " :F4_80     \n",
       " :FAS       \n",
       " :IgG       \n",
       " ⋮          \n",
       " :TCR_beta  \n",
       " :Thy1_2    \n",
       " :AnnexinV  \n",
       " :CD138     \n",
       " :CD38      \n",
       " :CD86      \n",
       " :CXCR4     \n",
       " :TCRValpha2\n",
       " :Thy1_1    \n",
       " :PD_1      \n",
       " :PDL_1     \n",
       " :CD205     "
      ]
     },
     "execution_count": 7,
     "metadata": {},
     "output_type": "execute_result"
    }
   ],
   "source": [
    "dyes_em = [item for item in emission.colindex.names if item != :Wavelength && item !=:wavelength] |> sort!\n",
    "dyes_ex = [item for item in excitation.colindex.names if item != :Wavelength && item !=:wavelength] |> sort!\n",
    "if dyes_em == dyes_ex\n",
    "    dyes = dyes_ex\n",
    "else\n",
    "    println(\"names of dyes not match!\")\n",
    "    # TODO: using logging module\n",
    "end\n",
    "markers = [Symbol(item) for item in antigens[:markers]] |> unique"
   ]
  },
  {
   "cell_type": "code",
   "execution_count": 11,
   "metadata": {},
   "outputs": [
    {
     "data": {
      "text/plain": [
       "Dict{Any,Any} with 12 entries:\n",
       "  :APC_Cy7     => 2\n",
       "  :Alexa700    => 1\n",
       "  :APC         => 5\n",
       "  :Percp_Cy5_5 => 2\n",
       "  :BV605       => 4\n",
       "  :BV510       => 3\n",
       "  :PE_Dazzle   => 5\n",
       "  :Alexa647    => 4\n",
       "  :PacificBlue => 2\n",
       "  :PE          => 5\n",
       "  :PE_Cy7      => 4\n",
       "  :FITC        => 2"
      ]
     },
     "execution_count": 11,
     "metadata": {},
     "output_type": "execute_result"
    }
   ],
   "source": [
    "function getDyeBrightness(dye_list)\n",
    "    default_chart = Dict()\n",
    "    for item in dye_list\n",
    "        default_chart[item] = 3\n",
    "    end\n",
    "    return chart-> begin\n",
    "        for i =1:length(chart[:,1])\n",
    "            name = Symbol(chart[i,1])\n",
    "            value = chart[i,2]\n",
    "            default_chart[name] = value\n",
    "        end\n",
    "        default_chart\n",
    "    end\n",
    "end\n",
    "dye_brightness = antigens[2:3] |> unique |> getDyeBrightness(dyes)"
   ]
  },
  {
   "cell_type": "code",
   "execution_count": 12,
   "metadata": {},
   "outputs": [
    {
     "data": {
      "text/plain": [
       "generateLensInteraction (generic function with 1 method)"
      ]
     },
     "execution_count": 12,
     "metadata": {},
     "output_type": "execute_result"
    }
   ],
   "source": [
    "function getExcitedRatio(lasers, dye_excitation)\n",
    "    result = Dict()\n",
    "    for (laser_name, laser_lambda) in lasers\n",
    "        index = find(x->x==laser_lambda, dye_excitation[:Wavelength])[1]\n",
    "        target = dye_excitation[index, :]\n",
    "        result[laser_name] = target\n",
    "    end\n",
    "    result\n",
    "end\n",
    "\n",
    "function getLensNumber(lens)\n",
    "    count = 0\n",
    "    for (name, port) in lens\n",
    "        count += length(port)\n",
    "    end\n",
    "    count\n",
    "end\n",
    "\n",
    "function getEmitRatio(lens, dye_emission)\n",
    "    result = Dict()\n",
    "    for (laser_name, ports) in lens\n",
    "        port_result = Dict()\n",
    "        for (target, range) in ports\n",
    "            ranger = find(x->(target-range)<=x<=(target+range), emission[:Wavelength])\n",
    "            port_result[target] = emission[ranger[1]:ranger[end],2:end]\n",
    "        end\n",
    "        result[laser_name] = port_result\n",
    "    end\n",
    "    result\n",
    "end\n",
    "            \n",
    "\n",
    "function generateLensInteraction(emit_ratio, excite_ratio, dye_list, laser_list, lens, \n",
    "        dye_brightness)\n",
    "    \n",
    "    result = Dict()\n",
    "\n",
    "    for (each_laser, _) in laser_list\n",
    "        laser_array = Dict()\n",
    "        for (port, _) in lens[each_laser]\n",
    "            # println(each_laser, \" \", port)\n",
    "            port_array = Dict()\n",
    "            for dominator in dye_list\n",
    "                domi_value = excite_ratio[each_laser][dominator][1] / 100 * \n",
    "                             mean(emit_ratio[each_laser][port][dominator]) *\n",
    "                             dye_brightness[dominator]\n",
    "                dye_array = []\n",
    "                for liberator in dye_list\n",
    "                    if liberator != dominator\n",
    "                        libe_value = excite_ratio[each_laser][liberator][1] / 100 * \n",
    "                                     mean(emit_ratio[each_laser][port][liberator]) *\n",
    "                                     dye_brightness[liberator]\n",
    "                        push!(dye_array, (domi_value-libe_value)/(domi_value+libe_value+1))\n",
    "                    else\n",
    "                        push!(dye_array, -Inf) \n",
    "                    end\n",
    "                    \n",
    "                end\n",
    "                port_array[dominator] = dye_array\n",
    "            end\n",
    "            laser_array[port]=port_array\n",
    "        end\n",
    "        result[each_laser] = laser_array\n",
    "    end\n",
    "    result\n",
    "end"
   ]
  },
  {
   "cell_type": "markdown",
   "metadata": {},
   "source": [
    "$$ \\frac{\\alpha_{ex}}{100} \\cdot \\langle \\alpha_{em} \\rangle \\cdot \\alpha_L$$"
   ]
  },
  {
   "cell_type": "code",
   "execution_count": 25,
   "metadata": {},
   "outputs": [
    {
     "data": {
      "text/html": [
       "<table class=\"data-frame\"><thead><tr><th></th><th>Alexa647</th><th>Alexa700</th><th>APC</th><th>FITC</th><th>PacificBlue</th><th>PE</th><th>PE_Cy7</th><th>Percp_Cy5_5</th><th>BV510</th><th>PE_Dazzle</th><th>BV605</th><th>APC_Cy7</th></tr></thead><tbody><tr><th>1</th><td>0.0</td><td>45.0411</td><td>0.0</td><td>0.0</td><td>0.0</td><td>0.0</td><td>20.5178</td><td>0.0</td><td>0.0</td><td>0.0</td><td>0.0</td><td>21.116</td></tr><tr><th>2</th><td>0.0</td><td>42.1555</td><td>0.0</td><td>0.0</td><td>0.0</td><td>0.0</td><td>20.9618</td><td>0.0</td><td>0.0</td><td>0.0</td><td>0.0</td><td>19.922</td></tr><tr><th>3</th><td>0.0</td><td>39.4793</td><td>0.0</td><td>0.0</td><td>0.0</td><td>0.0</td><td>21.5484</td><td>0.0</td><td>0.0</td><td>0.0</td><td>0.0</td><td>18.765</td></tr><tr><th>4</th><td>0.0</td><td>36.8051</td><td>0.0</td><td>0.0</td><td>0.0</td><td>0.0</td><td>22.1258</td><td>0.0</td><td>0.0</td><td>0.0</td><td>0.0</td><td>17.634</td></tr><tr><th>5</th><td>0.0</td><td>34.2489</td><td>0.0</td><td>0.0</td><td>0.0</td><td>0.0</td><td>22.7251</td><td>0.0</td><td>0.0</td><td>0.0</td><td>0.0</td><td>16.52</td></tr><tr><th>6</th><td>0.0</td><td>31.7451</td><td>0.0</td><td>0.0</td><td>0.0</td><td>0.0</td><td>23.3684</td><td>0.0</td><td>0.0</td><td>0.0</td><td>0.0</td><td>15.408</td></tr><tr><th>7</th><td>0.0</td><td>29.4773</td><td>0.0</td><td>0.0</td><td>0.0</td><td>0.0</td><td>24.1495</td><td>0.0</td><td>0.0</td><td>0.0</td><td>0.0</td><td>14.283</td></tr><tr><th>8</th><td>0.0</td><td>27.2804</td><td>0.0</td><td>0.0</td><td>0.0</td><td>0.0</td><td>24.9149</td><td>0.0</td><td>0.0</td><td>0.0</td><td>0.0</td><td>13.117</td></tr><tr><th>9</th><td>0.0</td><td>25.2691</td><td>0.0</td><td>0.0</td><td>0.0</td><td>0.0</td><td>25.6363</td><td>0.0</td><td>0.0</td><td>0.0</td><td>0.0</td><td>11.891</td></tr><tr><th>10</th><td>0.0</td><td>23.308</td><td>0.0</td><td>0.0</td><td>0.0</td><td>0.0</td><td>26.4031</td><td>0.0</td><td>0.0</td><td>0.0</td><td>0.0</td><td>10.629</td></tr><tr><th>11</th><td>0.0</td><td>21.5544</td><td>0.0</td><td>0.0</td><td>0.0</td><td>0.0</td><td>27.2011</td><td>0.0</td><td>0.0</td><td>0.0</td><td>0.0</td><td>9.396</td></tr><tr><th>12</th><td>0.0</td><td>19.8726</td><td>0.0</td><td>0.0</td><td>0.0</td><td>0.0</td><td>28.0614</td><td>0.0</td><td>0.0</td><td>0.0</td><td>0.0</td><td>8.276</td></tr><tr><th>13</th><td>0.0</td><td>18.3383</td><td>0.0</td><td>0.0</td><td>0.0</td><td>0.0</td><td>28.9108</td><td>0.0</td><td>0.0</td><td>0.0</td><td>0.0</td><td>7.318</td></tr><tr><th>14</th><td>0.0</td><td>16.9111</td><td>0.0</td><td>0.0</td><td>0.0</td><td>0.0</td><td>29.8134</td><td>0.0</td><td>0.0</td><td>0.0</td><td>0.0</td><td>6.517</td></tr><tr><th>15</th><td>0.0</td><td>15.6007</td><td>0.0</td><td>0.0</td><td>0.0</td><td>0.0</td><td>30.7352</td><td>0.0</td><td>0.0</td><td>0.0</td><td>0.0</td><td>5.837</td></tr><tr><th>16</th><td>0.0</td><td>14.3805</td><td>0.0</td><td>0.0</td><td>0.0</td><td>0.0</td><td>31.7582</td><td>0.0</td><td>0.0</td><td>0.0</td><td>0.0</td><td>5.234</td></tr><tr><th>17</th><td>0.0</td><td>13.2651</td><td>0.0</td><td>0.0</td><td>0.0</td><td>0.0</td><td>32.7905</td><td>0.0</td><td>0.0</td><td>0.0</td><td>0.0</td><td>4.683</td></tr><tr><th>18</th><td>0.0</td><td>12.245</td><td>0.0</td><td>0.0</td><td>0.0</td><td>0.0</td><td>33.9179</td><td>0.0</td><td>0.0</td><td>0.0</td><td>0.0</td><td>4.172</td></tr><tr><th>19</th><td>0.0</td><td>11.3071</td><td>0.0</td><td>0.0</td><td>0.0</td><td>0.0</td><td>35.0226</td><td>0.0</td><td>0.0</td><td>0.0</td><td>0.0</td><td>3.69</td></tr><tr><th>20</th><td>0.0</td><td>10.4595</td><td>0.0</td><td>0.0</td><td>0.0</td><td>0.0</td><td>36.0511</td><td>0.0</td><td>0.0</td><td>0.0</td><td>0.0</td><td>3.23</td></tr><tr><th>21</th><td>0.0</td><td>9.65706</td><td>0.0</td><td>0.0</td><td>0.0</td><td>0.0</td><td>37.0269</td><td>0.0</td><td>0.0</td><td>0.0</td><td>0.0</td><td>2.786</td></tr><tr><th>22</th><td>0.0</td><td>8.92962</td><td>0.0</td><td>0.0</td><td>0.0</td><td>0.0</td><td>38.2339</td><td>0.0</td><td>0.0</td><td>0.0</td><td>0.0</td><td>2.353</td></tr><tr><th>23</th><td>0.0</td><td>8.2543</td><td>0.0</td><td>0.0</td><td>0.0</td><td>0.0</td><td>39.4291</td><td>0.0</td><td>0.0</td><td>0.0</td><td>0.0</td><td>1.926</td></tr><tr><th>24</th><td>0.0</td><td>7.63461</td><td>0.0</td><td>0.0</td><td>0.0</td><td>0.0</td><td>40.5963</td><td>0.0</td><td>0.0</td><td>0.0</td><td>0.0</td><td>1.524</td></tr><tr><th>25</th><td>0.0</td><td>7.07422</td><td>0.0</td><td>0.0</td><td>0.0</td><td>0.0</td><td>41.8166</td><td>0.0</td><td>0.0</td><td>0.0</td><td>0.0</td><td>1.185</td></tr><tr><th>26</th><td>0.0</td><td>6.53251</td><td>0.0</td><td>0.0</td><td>0.0</td><td>0.0</td><td>42.8499</td><td>0.0</td><td>0.0</td><td>0.0</td><td>0.0</td><td>0.922</td></tr><tr><th>27</th><td>0.0</td><td>6.08306</td><td>0.0</td><td>0.0</td><td>0.0</td><td>0.0</td><td>44.0053</td><td>0.0</td><td>0.0</td><td>0.0</td><td>0.0</td><td>0.728</td></tr><tr><th>28</th><td>0.0</td><td>5.61297</td><td>0.0</td><td>0.0</td><td>0.0</td><td>0.0</td><td>45.1532</td><td>0.0</td><td>0.0</td><td>0.0</td><td>0.0</td><td>0.586</td></tr><tr><th>29</th><td>0.0</td><td>5.22098</td><td>0.0</td><td>0.0</td><td>0.0</td><td>0.0</td><td>46.1303</td><td>0.0</td><td>0.0</td><td>0.0</td><td>0.0</td><td>0.48</td></tr><tr><th>30</th><td>0.0</td><td>4.84962</td><td>0.0</td><td>0.0</td><td>0.0</td><td>0.0</td><td>46.9799</td><td>0.0</td><td>0.0</td><td>0.0</td><td>0.0</td><td>0.4</td></tr><tr><th>&vellip;</th><td>&vellip;</td><td>&vellip;</td><td>&vellip;</td><td>&vellip;</td><td>&vellip;</td><td>&vellip;</td><td>&vellip;</td><td>&vellip;</td><td>&vellip;</td><td>&vellip;</td><td>&vellip;</td><td>&vellip;</td></tr></tbody></table>"
      ],
      "text/plain": [
       "121×12 DataFrames.DataFrame. Omitted printing of 5 columns\n",
       "│ Row │ Alexa647 │ Alexa700 │ APC │ FITC │ PacificBlue │ PE  │ PE_Cy7  │\n",
       "├─────┼──────────┼──────────┼─────┼──────┼─────────────┼─────┼─────────┤\n",
       "│ 1   │ 0.0      │ 45.0411  │ 0.0 │ 0.0  │ 0.0         │ 0.0 │ 20.5178 │\n",
       "│ 2   │ 0.0      │ 42.1555  │ 0.0 │ 0.0  │ 0.0         │ 0.0 │ 20.9618 │\n",
       "│ 3   │ 0.0      │ 39.4793  │ 0.0 │ 0.0  │ 0.0         │ 0.0 │ 21.5484 │\n",
       "│ 4   │ 0.0      │ 36.8051  │ 0.0 │ 0.0  │ 0.0         │ 0.0 │ 22.1258 │\n",
       "│ 5   │ 0.0      │ 34.2489  │ 0.0 │ 0.0  │ 0.0         │ 0.0 │ 22.7251 │\n",
       "│ 6   │ 0.0      │ 31.7451  │ 0.0 │ 0.0  │ 0.0         │ 0.0 │ 23.3684 │\n",
       "│ 7   │ 0.0      │ 29.4773  │ 0.0 │ 0.0  │ 0.0         │ 0.0 │ 24.1495 │\n",
       "│ 8   │ 0.0      │ 27.2804  │ 0.0 │ 0.0  │ 0.0         │ 0.0 │ 24.9149 │\n",
       "│ 9   │ 0.0      │ 25.2691  │ 0.0 │ 0.0  │ 0.0         │ 0.0 │ 25.6363 │\n",
       "│ 10  │ 0.0      │ 23.308   │ 0.0 │ 0.0  │ 0.0         │ 0.0 │ 26.4031 │\n",
       "│ 11  │ 0.0      │ 21.5544  │ 0.0 │ 0.0  │ 0.0         │ 0.0 │ 27.2011 │\n",
       "⋮\n",
       "│ 110 │ 0.0      │ 0.0      │ 0.0 │ 0.0  │ 0.0         │ 0.0 │ 0.0     │\n",
       "│ 111 │ 0.0      │ 0.0      │ 0.0 │ 0.0  │ 0.0         │ 0.0 │ 0.0     │\n",
       "│ 112 │ 0.0      │ 0.0      │ 0.0 │ 0.0  │ 0.0         │ 0.0 │ 0.0     │\n",
       "│ 113 │ 0.0      │ 0.0      │ 0.0 │ 0.0  │ 0.0         │ 0.0 │ 0.0     │\n",
       "│ 114 │ 0.0      │ 0.0      │ 0.0 │ 0.0  │ 0.0         │ 0.0 │ 0.0     │\n",
       "│ 115 │ 0.0      │ 0.0      │ 0.0 │ 0.0  │ 0.0         │ 0.0 │ 0.0     │\n",
       "│ 116 │ 0.0      │ 0.0      │ 0.0 │ 0.0  │ 0.0         │ 0.0 │ 0.0     │\n",
       "│ 117 │ 0.0      │ 0.0      │ 0.0 │ 0.0  │ 0.0         │ 0.0 │ 0.0     │\n",
       "│ 118 │ 0.0      │ 0.0      │ 0.0 │ 0.0  │ 0.0         │ 0.0 │ 0.0     │\n",
       "│ 119 │ 0.0      │ 0.0      │ 0.0 │ 0.0  │ 0.0         │ 0.0 │ 0.0     │\n",
       "│ 120 │ 0.0      │ 0.0      │ 0.0 │ 0.0  │ 0.0         │ 0.0 │ 0.0     │\n",
       "│ 121 │ 0.0      │ 0.0      │ 0.0 │ 0.0  │ 0.0         │ 0.0 │ 0.0     │"
      ]
     },
     "execution_count": 25,
     "metadata": {},
     "output_type": "execute_result"
    }
   ],
   "source": [
    "getEmitRatio(lens, emission)[:red][780]"
   ]
  },
  {
   "cell_type": "code",
   "execution_count": 15,
   "metadata": {},
   "outputs": [
    {
     "data": {
      "text/plain": [
       "Dict{Any,Any} with 4 entries:\n",
       "  :red    => Dict{Any,Any}(Pair{Any,Any}(780, Dict{Any,Any}(Pair{Any,Any}(:APC_…\n",
       "  :yellow => Dict{Any,Any}(Pair{Any,Any}(780, Dict{Any,Any}(Pair{Any,Any}(:APC_…\n",
       "  :violet => Dict{Any,Any}(Pair{Any,Any}(510, Dict{Any,Any}(Pair{Any,Any}(:APC_…\n",
       "  :blue   => Dict{Any,Any}(Pair{Any,Any}(780, Dict{Any,Any}(Pair{Any,Any}(:APC_…"
      ]
     },
     "execution_count": 15,
     "metadata": {},
     "output_type": "execute_result"
    }
   ],
   "source": [
    "demo = generateLensInteraction(\n",
    "    getEmitRatio(lens, emission),\n",
    "    getExcitedRatio(lasers, excitation),\n",
    "    dyes, lasers, lens, dye_brightness\n",
    ")"
   ]
  },
  {
   "cell_type": "code",
   "execution_count": 16,
   "metadata": {},
   "outputs": [
    {
     "data": {
      "text/plain": [
       "12-element Array{Any,1}:\n",
       "    0.0      \n",
       "   -0.161327 \n",
       "    0.0      \n",
       "   -0.0374479\n",
       "    0.0      \n",
       " -Inf        \n",
       "    0.0      \n",
       "    0.0      \n",
       "   -0.848819 \n",
       "    0.0      \n",
       "    0.0      \n",
       "    0.0      "
      ]
     },
     "execution_count": 16,
     "metadata": {},
     "output_type": "execute_result"
    }
   ],
   "source": [
    "demo[:red][780][:BV605]"
   ]
  },
  {
   "cell_type": "code",
   "execution_count": 18,
   "metadata": {
    "scrolled": false
   },
   "outputs": [
    {
     "data": {
      "text/html": [
       "<table class=\"data-frame\"><thead><tr><th></th><th>Alexa647</th><th>Alexa700</th><th>APC</th><th>FITC</th><th>PacificBlue</th><th>PE</th><th>PE_Cy7</th><th>Percp_Cy5_5</th><th>BV510</th><th>PE_Dazzle</th><th>BV605</th><th>APC_Cy7</th></tr></thead><tbody><tr><th>1</th><td>0.0</td><td>45.0411</td><td>0.0</td><td>0.0</td><td>0.0</td><td>0.0</td><td>20.5178</td><td>0.0</td><td>0.0</td><td>0.0</td><td>0.0</td><td>21.116</td></tr><tr><th>2</th><td>0.0</td><td>42.1555</td><td>0.0</td><td>0.0</td><td>0.0</td><td>0.0</td><td>20.9618</td><td>0.0</td><td>0.0</td><td>0.0</td><td>0.0</td><td>19.922</td></tr><tr><th>3</th><td>0.0</td><td>39.4793</td><td>0.0</td><td>0.0</td><td>0.0</td><td>0.0</td><td>21.5484</td><td>0.0</td><td>0.0</td><td>0.0</td><td>0.0</td><td>18.765</td></tr><tr><th>4</th><td>0.0</td><td>36.8051</td><td>0.0</td><td>0.0</td><td>0.0</td><td>0.0</td><td>22.1258</td><td>0.0</td><td>0.0</td><td>0.0</td><td>0.0</td><td>17.634</td></tr><tr><th>5</th><td>0.0</td><td>34.2489</td><td>0.0</td><td>0.0</td><td>0.0</td><td>0.0</td><td>22.7251</td><td>0.0</td><td>0.0</td><td>0.0</td><td>0.0</td><td>16.52</td></tr><tr><th>6</th><td>0.0</td><td>31.7451</td><td>0.0</td><td>0.0</td><td>0.0</td><td>0.0</td><td>23.3684</td><td>0.0</td><td>0.0</td><td>0.0</td><td>0.0</td><td>15.408</td></tr></tbody></table>"
      ],
      "text/plain": [
       "6×12 DataFrames.DataFrame. Omitted printing of 5 columns\n",
       "│ Row │ Alexa647 │ Alexa700 │ APC │ FITC │ PacificBlue │ PE  │ PE_Cy7  │\n",
       "├─────┼──────────┼──────────┼─────┼──────┼─────────────┼─────┼─────────┤\n",
       "│ 1   │ 0.0      │ 45.0411  │ 0.0 │ 0.0  │ 0.0         │ 0.0 │ 20.5178 │\n",
       "│ 2   │ 0.0      │ 42.1555  │ 0.0 │ 0.0  │ 0.0         │ 0.0 │ 20.9618 │\n",
       "│ 3   │ 0.0      │ 39.4793  │ 0.0 │ 0.0  │ 0.0         │ 0.0 │ 21.5484 │\n",
       "│ 4   │ 0.0      │ 36.8051  │ 0.0 │ 0.0  │ 0.0         │ 0.0 │ 22.1258 │\n",
       "│ 5   │ 0.0      │ 34.2489  │ 0.0 │ 0.0  │ 0.0         │ 0.0 │ 22.7251 │\n",
       "│ 6   │ 0.0      │ 31.7451  │ 0.0 │ 0.0  │ 0.0         │ 0.0 │ 23.3684 │"
      ]
     },
     "execution_count": 18,
     "metadata": {},
     "output_type": "execute_result"
    }
   ],
   "source": [
    "getEmitRatio(lens, emission)[:red][780] |> head"
   ]
  },
  {
   "cell_type": "markdown",
   "metadata": {},
   "source": [
    "---"
   ]
  },
  {
   "cell_type": "code",
   "execution_count": 20,
   "metadata": {
    "scrolled": false
   },
   "outputs": [],
   "source": [
    "function getTemplate(antigens, marker_list, dye_list, level=1)\n",
    "    template = zeros(length(marker_list), length(dye_list))\n",
    "    for i=1:length(antigens[:,1])\n",
    "        a1 = indexin([antigens[i,:markers] |> Symbol], marker_list)[1]\n",
    "        a2 = indexin([antigens[i,:dyes] |> Symbol], dye_list)[1]\n",
    "\n",
    "        if a2 == 0 \n",
    "            println([antigens[i,:dyes] |> Symbol])\n",
    "        end\n",
    "\n",
    "        template[a1, a2] = 1\n",
    "    end\n",
    "    template\n",
    "    repeat(template, outer=(1,1,level))\n",
    "end\n",
    "getTemplate(antigens, markers, dyes, getLensNumber(lens));"
   ]
  },
  {
   "cell_type": "code",
   "execution_count": 21,
   "metadata": {},
   "outputs": [
    {
     "data": {
      "text/plain": [
       "4"
      ]
     },
     "execution_count": 21,
     "metadata": {},
     "output_type": "execute_result"
    }
   ],
   "source": [
    "lasers.count"
   ]
  },
  {
   "cell_type": "code",
   "execution_count": null,
   "metadata": {},
   "outputs": [],
   "source": []
  }
 ],
 "metadata": {
  "kernelspec": {
   "display_name": "Julia 0.6.4",
   "language": "julia",
   "name": "julia-0.6"
  },
  "language_info": {
   "file_extension": ".jl",
   "mimetype": "application/julia",
   "name": "julia",
   "version": "0.6.4"
  }
 },
 "nbformat": 4,
 "nbformat_minor": 2
}
